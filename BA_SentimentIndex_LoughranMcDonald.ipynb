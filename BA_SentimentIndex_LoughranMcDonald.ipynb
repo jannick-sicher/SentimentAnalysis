{
 "cells": [
  {
   "cell_type": "markdown",
   "metadata": {},
   "source": [
    "# Bachelor Thesis: Loughran and McDonald Dictionary"
   ]
  },
  {
   "cell_type": "markdown",
   "metadata": {},
   "source": [
    "__Author__: Jannick Sicher\n",
    "\n",
    "The following Jupyter notebook provides the code for the creation of the sentiment index using the Loughran and McDonald dictionary. The sentiment index is created based on news articles obtained by the Alchemy API of IBM (Watson News Discovery) that consists of a pre-enriched collection of news data of the past two months. The sentiment index analyses five Swiss based companies, namely the UBS Group, Nestlé, Roche, Novartis, and ABB. "
   ]
  },
  {
   "cell_type": "markdown",
   "metadata": {},
   "source": [
    "## Initial Configurations"
   ]
  },
  {
   "cell_type": "code",
   "execution_count": 1,
   "metadata": {},
   "outputs": [],
   "source": [
    "%matplotlib inline\n",
    "import sys\n",
    "import os\n",
    "import pandas as pd\n",
    "import json\n",
    "from watson_developer_cloud import DiscoveryV1\n",
    "import requests\n",
    "from nytimesarticle import articleAPI\n",
    "import time\n",
    "import nltk\n",
    "from bs4 import BeautifulSoup as soup\n",
    "import bs4 as bs\n",
    "import requests\n",
    "import re\n",
    "from textblob import TextBlob\n",
    "from nltk import word_tokenize\n",
    "from nltk import tokenize\n",
    "from nltk.stem.porter import PorterStemmer\n",
    "from nltk.corpus import stopwords\n",
    "from nltk import FreqDist\n",
    "from bs4 import BeautifulSoup\n",
    "import matplotlib\n",
    "from nltk.classify import NaiveBayesClassifier\n",
    "from nltk.corpus import subjectivity\n",
    "from nltk.sentiment import SentimentAnalyzer\n",
    "from nltk.sentiment.util import *\n",
    "import numpy as np\n",
    "import matplotlib.pyplot as plt\n",
    "import matplotlib.dates as mdates\n",
    "import seaborn as sns\n",
    "from textblob_de import TextBlobDE\n",
    "from urllib.request import urlopen as uReq\n",
    "from sklearn.preprocessing import StandardScaler\n",
    "import datetime\n",
    "import backtrader as bt\n",
    "import backtrader.feeds as btfeed\n",
    "\n",
    "### Initial configuration for the IBM Discovery News API ###\n",
    "discovery = DiscoveryV1(\n",
    "    version='2018-05-03',\n",
    "    username='522af75a-3b5f-4300-96c1-10035cb0e22f',\n",
    "    password='8gxPSA0bJizc')"
   ]
  },
  {
   "cell_type": "markdown",
   "metadata": {},
   "source": [
    "## Query Function for Alchemy API: News Articles\n",
    "\n",
    "This section provides a function to call the latest news articles for a company. Just uncomment the following code and change the _\"CompanyName\"_ with the desired company of your choice. By default, the search query provides only English news articles to simplify the sentiment analysis. However, if you want to receive German news articles, you can change language to _\"de\"_. "
   ]
  },
  {
   "cell_type": "code",
   "execution_count": 2,
   "metadata": {},
   "outputs": [],
   "source": [
    "## Query function to search articles for companies\n",
    "#qopts = {'query': 'enriched_text.entities.text:UBS', 'language':'en', 'title': 'UBS'}\n",
    "#UBS = discovery.query('system', 'news-en', qopts)\n",
    "#print(json.dumps(UBS, indent=2))"
   ]
  },
  {
   "cell_type": "markdown",
   "metadata": {},
   "source": [
    "## Data Preparation\n",
    "\n",
    "In the first step of this notebook, I prepare the data for each company. Firstly, I created a JSON file using approximately 500 news articles (the most relevant in the Watson News Discovery database) for each company during the last two months. The JSON file provides all needed information such as the source, URL, text, author, language, etc. In this section, I loaded all JSON files and transformed them into a Pandas dataframe using the Pandas package. After doing that, I saved the csv file for each company. "
   ]
  },
  {
   "cell_type": "markdown",
   "metadata": {},
   "source": [
    "### JSON file for UBS"
   ]
  },
  {
   "cell_type": "code",
   "execution_count": 3,
   "metadata": {},
   "outputs": [],
   "source": [
    "# Load json file of UBS articles\n",
    "with open('UBS_dataset_new.json') as json_data:\n",
    "    UBS_json = json.load(json_data)\n",
    "\n",
    "# Transform 'results' of json file into pandas dataframe\n",
    "UBS_df = pd.DataFrame(UBS_json['results'])\n",
    "\n",
    "# Transform date into datetime\n",
    "UBS_df['datetime'] = pd.to_datetime(UBS_df['publication_date'])\n",
    "\n",
    "# Save created pandas df to csv\n",
    "UBS_df.to_csv('UBS_df.csv')"
   ]
  },
  {
   "cell_type": "markdown",
   "metadata": {},
   "source": [
    "### JSON file for Nestlé"
   ]
  },
  {
   "cell_type": "code",
   "execution_count": 4,
   "metadata": {},
   "outputs": [],
   "source": [
    "# Load json file of Nestlé articles\n",
    "with open('Nestle_dataset_new.json') as json_data:\n",
    "    Nestle_json = json.load(json_data)\n",
    "\n",
    "# Transform 'results' of json file into pandas dataframe\n",
    "Nestle_df = pd.DataFrame(Nestle_json['results'])\n",
    "\n",
    "# Transform date into datetime\n",
    "Nestle_df['datetime'] = pd.to_datetime(Nestle_df['publication_date'])\n",
    "\n",
    "# Save created pandas df to csv\n",
    "Nestle_df.to_csv('Nestle_df.csv')"
   ]
  },
  {
   "cell_type": "markdown",
   "metadata": {},
   "source": [
    "### JSON file for Roche"
   ]
  },
  {
   "cell_type": "code",
   "execution_count": 5,
   "metadata": {},
   "outputs": [],
   "source": [
    "# Load json file of Roche articles\n",
    "with open('Roche_dataset_new.json') as json_data:\n",
    "    Roche_json = json.load(json_data)\n",
    "\n",
    "# Transform results json file into pandas dataframe\n",
    "Roche_df = pd.DataFrame(Roche_json['results'])\n",
    "\n",
    "# Transform date into datetime\n",
    "Roche_df['datetime'] = pd.to_datetime(Roche_df['publication_date'])\n",
    "\n",
    "# Save created pandas df to csv\n",
    "Roche_df.to_csv('Roche_df.csv')"
   ]
  },
  {
   "cell_type": "markdown",
   "metadata": {},
   "source": [
    "### JSON file for Novartis"
   ]
  },
  {
   "cell_type": "code",
   "execution_count": 6,
   "metadata": {},
   "outputs": [],
   "source": [
    "# Load json file of Novartis articles\n",
    "with open('Novartis_dataset_new.json') as json_data:\n",
    "    Novartis_json = json.load(json_data)  \n",
    "\n",
    "# Transform results json file into pandas dataframe\n",
    "Novartis_df = pd.DataFrame(Novartis_json['results'])    \n",
    "\n",
    "# Transform date into datetime\n",
    "Novartis_df['datetime'] = pd.to_datetime(Novartis_df['publication_date'])\n",
    "\n",
    "# Save created pandas df to csv\n",
    "Novartis_df.to_csv('Novartis_df.csv') "
   ]
  },
  {
   "cell_type": "markdown",
   "metadata": {},
   "source": [
    "### JSON file for ABB"
   ]
  },
  {
   "cell_type": "code",
   "execution_count": 7,
   "metadata": {},
   "outputs": [],
   "source": [
    "# Load json file of ABB articles\n",
    "with open('ABB_dataset_new.json') as json_data:\n",
    "    ABB_json = json.load(json_data)\n",
    "\n",
    "# Transform results json file into pandas dataframe\n",
    "ABB_df = pd.DataFrame(ABB_json['results'])  \n",
    "\n",
    "# Transform date into datetime\n",
    "ABB_df['datetime'] = pd.to_datetime(ABB_df['publication_date'])\n",
    "\n",
    "# Save created pandas df to csv\n",
    "ABB_df.to_csv('ABB_df.csv')"
   ]
  },
  {
   "cell_type": "markdown",
   "metadata": {},
   "source": [
    "## Sentiment Analysis with Loughran and McDonald Dictionary\n",
    "In this section, I will present a method of sentiment analysis using a financial dictionary. More precisely, I will use the Loughrand and McDonald Dictionary, which was initially developed in a paper published in the Journal of Finance (“When is a Liability not a Liability?, 2011). The financial dictionary consists of four different sentiments (positive, negative, litigious, uncertain). To develop a sentiment score, I will primarily make use of the positive and negative dictionary to create a simple sentiment score for each news article. "
   ]
  },
  {
   "cell_type": "markdown",
   "metadata": {},
   "source": [
    "### Sample Article of UBS\n",
    "This section provides a sample article and a basic URL of the UBS Group. As you can see here, the parser function of the Alchemy API is unfortunately not able to parse the whole text of the article and is only able parse a certain amount (including the headline). "
   ]
  },
  {
   "cell_type": "code",
   "execution_count": 8,
   "metadata": {},
   "outputs": [
    {
     "data": {
      "text/plain": [
       "'UBS publishes Annual Report 2017 Latest media releases UBS publishes Annual Report 2017 Zurich 09 Mar 2018, 06:45 Price Sensitive Information UBS’s Annual Report 2017 and Compensation Report available at www.ubs.com/annualreporting Zurich/Basel, 9 March 2018 – The Annual Report 2017 provides comprehensive and detailed information on the firm, its strategy, business, governance, financial performance and risk, treasury and capital management, as well as on the regulatory and operating environment for the financial year 2017. UBS net profit attributable to shareholders for 2017 was CHF 1.1 billion and diluted earnings per share were CHF 0.27. The 2017 results and the balance sheet as of 31 December 2017 differ from those presented in the unaudited fourth quarter 2017 report published on 22 January 2018 as a result of adjusting events after the reporting period. Provisions for litigation, regulatory and similar matters increased, which reduced 2017 operating profit before tax by CHF 141'"
      ]
     },
     "execution_count": 8,
     "metadata": {},
     "output_type": "execute_result"
    }
   ],
   "source": [
    "# Display article sample text for an article\n",
    "UBS_df['text'][0]"
   ]
  },
  {
   "cell_type": "code",
   "execution_count": 9,
   "metadata": {},
   "outputs": [
    {
     "data": {
      "text/plain": [
       "'http://www.six-swiss-exchange.com/issuers/services/tensid_news_en.html?id=f72c1eb2'"
      ]
     },
     "execution_count": 9,
     "metadata": {},
     "output_type": "execute_result"
    }
   ],
   "source": [
    "# Show web_url for comparison reasons\n",
    "UBS_df['url'][0]"
   ]
  },
  {
   "cell_type": "markdown",
   "metadata": {},
   "source": [
    "### Tokenize Function: Word Conversion, Stop Words Removal, Tokenization\n",
    "This function provides three functionalities: Firstly, each text is converted into lower case for simplifying the sentiment analysis. Subsequently, all stop words are removed (stop words are words that are repetitive, like the word \"the\" and are not necessary to define the sentiment of an article). Finally, the words of each text are tokenized, meaning that each word is segmentized to its root form). After tokenization, each word less than three letters is removed since they are not needed for the further sentiment analysis. "
   ]
  },
  {
   "cell_type": "code",
   "execution_count": 10,
   "metadata": {},
   "outputs": [],
   "source": [
    "# Tokenize and stop words removal\n",
    "def tokenize(text):\n",
    "\n",
    "    # Convert to lower case\n",
    "    words = map(lambda word: word.lower(), word_tokenize(text))\n",
    "    \n",
    "    # Remove stop words\n",
    "    cachedStopWords = stopwords.words(\"english\")\n",
    "    words = [word for word in words\n",
    "                  if word not in cachedStopWords]\n",
    "    \n",
    "    # Steam the words\n",
    "    tokens =(list(map(lambda token: PorterStemmer().stem(token), words)))\n",
    "    \n",
    "    # Remove non-letters \n",
    "    p = re.compile('[a-zA-Z]+')\n",
    "    \n",
    "    # Remove less than 3 length words\n",
    "    min_length = 3\n",
    "    filtered_tokens = list(filter(lambda token: p.match(token) and len(token) >= min_length, tokens))\n",
    "    \n",
    "    return filtered_tokens"
   ]
  },
  {
   "cell_type": "code",
   "execution_count": 11,
   "metadata": {},
   "outputs": [],
   "source": [
    "# Apply tokenizer to UBS\n",
    "UBS_df['tokens'] = UBS_df['text'].apply(tokenize)\n",
    "\n",
    "# Apply tokenizer to Nestle\n",
    "Nestle_df['tokens'] = Nestle_df['text'].apply(tokenize)\n",
    "\n",
    "# Apply tokenizer to Roche\n",
    "Roche_df['tokens'] = Roche_df['text'].apply(tokenize)\n",
    "\n",
    "# Apply tokenizer to Novartis\n",
    "Novartis_df['tokens'] = Novartis_df['text'].apply(tokenize)\n",
    "\n",
    "# Apply tokenizer to ABB\n",
    "ABB_df['tokens'] = ABB_df['text'].apply(tokenize)"
   ]
  },
  {
   "cell_type": "code",
   "execution_count": 12,
   "metadata": {},
   "outputs": [
    {
     "data": {
      "text/plain": [
       "['publish',\n",
       " 'annual',\n",
       " 'report',\n",
       " 'latest',\n",
       " 'media',\n",
       " 'releas',\n",
       " 'publish',\n",
       " 'annual',\n",
       " 'report',\n",
       " 'zurich',\n",
       " 'mar',\n",
       " 'price',\n",
       " 'sensit',\n",
       " 'inform',\n",
       " 'annual',\n",
       " 'report',\n",
       " 'compens',\n",
       " 'report',\n",
       " 'avail',\n",
       " 'www.ubs.com/annualreport',\n",
       " 'zurich/basel',\n",
       " 'march',\n",
       " 'annual',\n",
       " 'report',\n",
       " 'provid',\n",
       " 'comprehens',\n",
       " 'detail',\n",
       " 'inform',\n",
       " 'firm',\n",
       " 'strategi',\n",
       " 'busi',\n",
       " 'govern',\n",
       " 'financi',\n",
       " 'perform',\n",
       " 'risk',\n",
       " 'treasuri',\n",
       " 'capit',\n",
       " 'manag',\n",
       " 'well',\n",
       " 'regulatori',\n",
       " 'oper',\n",
       " 'environ',\n",
       " 'financi',\n",
       " 'year',\n",
       " 'net',\n",
       " 'profit',\n",
       " 'attribut',\n",
       " 'sharehold',\n",
       " 'chf',\n",
       " 'billion',\n",
       " 'dilut',\n",
       " 'earn',\n",
       " 'per',\n",
       " 'share',\n",
       " 'chf',\n",
       " 'result',\n",
       " 'balanc',\n",
       " 'sheet',\n",
       " 'decemb',\n",
       " 'differ',\n",
       " 'present',\n",
       " 'unaudit',\n",
       " 'fourth',\n",
       " 'quarter',\n",
       " 'report',\n",
       " 'publish',\n",
       " 'januari',\n",
       " 'result',\n",
       " 'adjust',\n",
       " 'event',\n",
       " 'report',\n",
       " 'period',\n",
       " 'provis',\n",
       " 'litig',\n",
       " 'regulatori',\n",
       " 'similar',\n",
       " 'matter',\n",
       " 'increas',\n",
       " 'reduc',\n",
       " 'oper',\n",
       " 'profit',\n",
       " 'tax',\n",
       " 'chf']"
      ]
     },
     "execution_count": 12,
     "metadata": {},
     "output_type": "execute_result"
    }
   ],
   "source": [
    "# Display first tokenized article for UBS for review\n",
    "UBS_df['tokens'][0]"
   ]
  },
  {
   "cell_type": "markdown",
   "metadata": {},
   "source": [
    "### Text Mining Function: Loughran and McDonald Dictionary\n",
    "Each dictionary provided by Loughran and McDonal are now loaded and will be used to determine the sentiment of each news article."
   ]
  },
  {
   "cell_type": "code",
   "execution_count": 14,
   "metadata": {},
   "outputs": [],
   "source": [
    "# Loading the financial dictionary provided by Loughran and McDonald\n",
    "with open('LoughranMcDonald_Positive.csv', 'r') as f: \n",
    "    pos = ''\n",
    "    for row in f:\n",
    "        pos += row.replace('\\n',',')\n",
    "with open('LoughranMcDonald_Negative.csv', 'r') as f: \n",
    "    neg = ''\n",
    "    for row in f:\n",
    "        neg += row.replace('\\n',',')\n",
    "with open('LoughranMcDonald_Litigious.csv', 'r') as f: \n",
    "    lit = ''\n",
    "    for row in f:\n",
    "        lit += row.replace('\\n',',')\n",
    "with open('LoughranMcDonald_Uncertainty.csv', 'r') as f: \n",
    "    unc = ''\n",
    "    for row in f:\n",
    "        unc += row.replace('\\n',',')"
   ]
  },
  {
   "cell_type": "markdown",
   "metadata": {},
   "source": [
    "### UBS: Apply Text Mining Function\n",
    "In this section, I will apply a text mining function that counts the occurences of positive, negative, litigious and uncertain words of each article according to the Loughran and McDonald financial dictionary. Bear in mind that this process is rather time consuming because of approximately 2500 news articles. This text mining function is applied to every company and saved to the pandas dataframe."
   ]
  },
  {
   "cell_type": "code",
   "execution_count": 15,
   "metadata": {},
   "outputs": [],
   "source": [
    "# Text mine function for UBS\n",
    "def text_mine_articles(UBS_df, bag_of_words,alignment):\n",
    "    \n",
    "    bag_of_words = tokenize(bag_of_words)\n",
    "    UBS_df['num_occurr_'+alignment] = 0\n",
    "    \n",
    "    # 'Set' to make the counting operation faster\n",
    "    set_of_words = set(bag_of_words)\n",
    "    \n",
    "    print('Text mine articles...'),\n",
    "    \n",
    "    for j in range(0, len(UBS_df)):\n",
    "        \n",
    "        # Convert article body into a list of tokens\n",
    "        tokenized_article = tokenize(UBS_df['text'][j])\n",
    "        \n",
    "        # Count occurrences of the dictionary of words\n",
    "        occurrences = [word for word in tokenized_article\n",
    "                        if word in set_of_words]\n",
    "        \n",
    "        # Copy amount of occurrences found to the dataframe\n",
    "        amount = len(occurrences)\n",
    "        UBS_df['num_occurr_'+alignment][j] = amount\n",
    "        \n",
    "    # Compute frequency of occurrence found in each article dividing\n",
    "    # the amount of words counted as occurrences by the amount of words in the article\n",
    "    # UBS_df['freq_occurr_'+alignment] = UBS_df['num_occurr_'+alignment]/UBS_df['word_count']   \n",
    "   \n",
    "    print('Done!')\n",
    " \n",
    "    return UBS_df"
   ]
  },
  {
   "cell_type": "code",
   "execution_count": 16,
   "metadata": {},
   "outputs": [
    {
     "name": "stdout",
     "output_type": "stream",
     "text": [
      "Text mine articles...\n"
     ]
    },
    {
     "name": "stderr",
     "output_type": "stream",
     "text": [
      "/Users/Jannick/anaconda3/lib/python3.6/site-packages/ipykernel_launcher.py:23: SettingWithCopyWarning: \n",
      "A value is trying to be set on a copy of a slice from a DataFrame\n",
      "\n",
      "See the caveats in the documentation: http://pandas.pydata.org/pandas-docs/stable/indexing.html#indexing-view-versus-copy\n"
     ]
    },
    {
     "name": "stdout",
     "output_type": "stream",
     "text": [
      "Done!\n",
      "Text mine articles...\n",
      "Done!\n",
      "Text mine articles...\n",
      "Done!\n",
      "Text mine articles...\n",
      "Done!\n"
     ]
    }
   ],
   "source": [
    "# Text mine all articles for each sentiment (positive, negative, litigious, uncertain)\n",
    "UBS_df = text_mine_articles(UBS_df, pos,'pos')\n",
    "UBS_df = text_mine_articles(UBS_df, neg,'neg')\n",
    "UBS_df = text_mine_articles(UBS_df, lit,'lit')\n",
    "UBS_df = text_mine_articles(UBS_df, unc,'unc')"
   ]
  },
  {
   "cell_type": "markdown",
   "metadata": {},
   "source": [
    "### Sentiment Score\n",
    "This section provides a simple calculation for the sentiment score. The sentiment score consists of the difference between the number of positive words and negative words according to the Loughran and McDonald dictionary. After creating each sentiment score for every article, I compute the average for any given day. This will further help me to set up my trading strategy. "
   ]
  },
  {
   "cell_type": "code",
   "execution_count": 17,
   "metadata": {},
   "outputs": [],
   "source": [
    "## Sentiment Score UBS\n",
    "# The following function provides a simple function to create a sentiment score\n",
    "UBS_df['sentiment_score'] = UBS_df['num_occurr_pos'] - UBS_df['num_occurr_neg']"
   ]
  },
  {
   "cell_type": "markdown",
   "metadata": {},
   "source": [
    "#### Daily Average Score"
   ]
  },
  {
   "cell_type": "code",
   "execution_count": 19,
   "metadata": {},
   "outputs": [
    {
     "data": {
      "text/html": [
       "<div>\n",
       "<table border=\"1\" class=\"dataframe\">\n",
       "  <thead>\n",
       "    <tr style=\"text-align: right;\">\n",
       "      <th></th>\n",
       "      <th>datetime</th>\n",
       "      <th>sentiment_score</th>\n",
       "      <th>watson_sentiment_score</th>\n",
       "      <th>polarity</th>\n",
       "      <th>subjectivity</th>\n",
       "    </tr>\n",
       "  </thead>\n",
       "  <tbody>\n",
       "    <tr>\n",
       "      <th>0</th>\n",
       "      <td>2018-03-03 00:00:00</td>\n",
       "      <td>2</td>\n",
       "      <td>-0.411911</td>\n",
       "      <td>0.248295</td>\n",
       "      <td>0.573485</td>\n",
       "    </tr>\n",
       "    <tr>\n",
       "      <th>1</th>\n",
       "      <td>2018-03-03 00:00:00</td>\n",
       "      <td>2</td>\n",
       "      <td>NaN</td>\n",
       "      <td>0.248295</td>\n",
       "      <td>0.573485</td>\n",
       "    </tr>\n",
       "    <tr>\n",
       "      <th>2</th>\n",
       "      <td>2018-03-04 07:16:00</td>\n",
       "      <td>1</td>\n",
       "      <td>0.181441</td>\n",
       "      <td>0.138695</td>\n",
       "      <td>0.282556</td>\n",
       "    </tr>\n",
       "    <tr>\n",
       "      <th>3</th>\n",
       "      <td>2018-03-04 07:16:00</td>\n",
       "      <td>1</td>\n",
       "      <td>NaN</td>\n",
       "      <td>0.099107</td>\n",
       "      <td>0.326687</td>\n",
       "    </tr>\n",
       "    <tr>\n",
       "      <th>4</th>\n",
       "      <td>2018-03-04 10:58:00</td>\n",
       "      <td>-1</td>\n",
       "      <td>NaN</td>\n",
       "      <td>-0.065476</td>\n",
       "      <td>0.372619</td>\n",
       "    </tr>\n",
       "  </tbody>\n",
       "</table>\n",
       "</div>"
      ],
      "text/plain": [
       "             datetime  sentiment_score  watson_sentiment_score  polarity  \\\n",
       "0 2018-03-03 00:00:00                2               -0.411911  0.248295   \n",
       "1 2018-03-03 00:00:00                2                     NaN  0.248295   \n",
       "2 2018-03-04 07:16:00                1                0.181441  0.138695   \n",
       "3 2018-03-04 07:16:00                1                     NaN  0.099107   \n",
       "4 2018-03-04 10:58:00               -1                     NaN -0.065476   \n",
       "\n",
       "   subjectivity  \n",
       "0      0.573485  \n",
       "1      0.573485  \n",
       "2      0.282556  \n",
       "3      0.326687  \n",
       "4      0.372619  "
      ]
     },
     "execution_count": 19,
     "metadata": {},
     "output_type": "execute_result"
    }
   ],
   "source": [
    "UBS_avg_df = pd.read_excel('Sentiment_Score_UBS.xlsx')\n",
    "UBS_avg_df.head()"
   ]
  },
  {
   "cell_type": "code",
   "execution_count": 20,
   "metadata": {},
   "outputs": [],
   "source": [
    "# Create .dt.date format\n",
    "UBS_avg_df['date'] = UBS_avg_df['datetime'].dt.date"
   ]
  },
  {
   "cell_type": "code",
   "execution_count": 21,
   "metadata": {},
   "outputs": [],
   "source": [
    "# Creates a function that computes the mean value for each day \n",
    "unique_dates = UBS_avg_df['date'].unique()\n",
    "UBS_means_df = pd.DataFrame()\n",
    "\n",
    "for date in unique_dates:\n",
    "    same_date = UBS_avg_df.loc[UBS_avg_df['date'] == date]\n",
    "    \n",
    "    sentiment_mean = same_date['sentiment_score'].mean()\n",
    "    watson_mean = same_date['watson_sentiment_score'].mean()\n",
    "    polarity_mean = same_date['polarity'].mean()\n",
    "\n",
    "    UBS_means_df = UBS_means_df.append({'date': date, 'sentiment': sentiment_mean, 'watson': watson_mean, \n",
    "                                        'polarity': polarity_mean}, ignore_index=True)\n"
   ]
  },
  {
   "cell_type": "code",
   "execution_count": 22,
   "metadata": {},
   "outputs": [
    {
     "data": {
      "text/html": [
       "<div>\n",
       "<table border=\"1\" class=\"dataframe\">\n",
       "  <thead>\n",
       "    <tr style=\"text-align: right;\">\n",
       "      <th></th>\n",
       "      <th>date</th>\n",
       "      <th>polarity</th>\n",
       "      <th>sentiment</th>\n",
       "      <th>watson</th>\n",
       "    </tr>\n",
       "  </thead>\n",
       "  <tbody>\n",
       "    <tr>\n",
       "      <th>0</th>\n",
       "      <td>2018-03-03</td>\n",
       "      <td>0.248295</td>\n",
       "      <td>2.000000</td>\n",
       "      <td>-0.411911</td>\n",
       "    </tr>\n",
       "    <tr>\n",
       "      <th>1</th>\n",
       "      <td>2018-03-04</td>\n",
       "      <td>0.054634</td>\n",
       "      <td>-1.000000</td>\n",
       "      <td>0.190002</td>\n",
       "    </tr>\n",
       "    <tr>\n",
       "      <th>2</th>\n",
       "      <td>2018-03-05</td>\n",
       "      <td>0.025303</td>\n",
       "      <td>0.428571</td>\n",
       "      <td>0.308881</td>\n",
       "    </tr>\n",
       "    <tr>\n",
       "      <th>3</th>\n",
       "      <td>2018-03-06</td>\n",
       "      <td>0.058877</td>\n",
       "      <td>0.666667</td>\n",
       "      <td>0.163440</td>\n",
       "    </tr>\n",
       "    <tr>\n",
       "      <th>4</th>\n",
       "      <td>2018-03-07</td>\n",
       "      <td>0.008555</td>\n",
       "      <td>-1.666667</td>\n",
       "      <td>0.220010</td>\n",
       "    </tr>\n",
       "  </tbody>\n",
       "</table>\n",
       "</div>"
      ],
      "text/plain": [
       "         date  polarity  sentiment    watson\n",
       "0  2018-03-03  0.248295   2.000000 -0.411911\n",
       "1  2018-03-04  0.054634  -1.000000  0.190002\n",
       "2  2018-03-05  0.025303   0.428571  0.308881\n",
       "3  2018-03-06  0.058877   0.666667  0.163440\n",
       "4  2018-03-07  0.008555  -1.666667  0.220010"
      ]
     },
     "execution_count": 22,
     "metadata": {},
     "output_type": "execute_result"
    }
   ],
   "source": [
    "UBS_means_df.head()"
   ]
  },
  {
   "cell_type": "code",
   "execution_count": 26,
   "metadata": {},
   "outputs": [],
   "source": [
    "# Create a Pandas Excel writer using XlsxWriter as the engine.\n",
    "writer = pd.ExcelWriter('UBS_means_df.xlsx', engine='xlsxwriter')\n",
    "\n",
    "# Convert the dataframe to an XlsxWriter Excel object.\n",
    "UBS_means_df.to_excel(writer, sheet_name='Sheet1')\n",
    "\n",
    "# Close the Pandas Excel writer and output the Excel file.\n",
    "writer.save()"
   ]
  },
  {
   "cell_type": "code",
   "execution_count": 27,
   "metadata": {},
   "outputs": [
    {
     "data": {
      "text/html": [
       "<div>\n",
       "<table border=\"1\" class=\"dataframe\">\n",
       "  <thead>\n",
       "    <tr style=\"text-align: right;\">\n",
       "      <th></th>\n",
       "      <th>date</th>\n",
       "      <th>polarity</th>\n",
       "      <th>sentiment</th>\n",
       "      <th>watson</th>\n",
       "      <th>datetime</th>\n",
       "    </tr>\n",
       "  </thead>\n",
       "  <tbody>\n",
       "    <tr>\n",
       "      <th>0</th>\n",
       "      <td>2018-03-03</td>\n",
       "      <td>0.248295</td>\n",
       "      <td>2.000000</td>\n",
       "      <td>-0.411911</td>\n",
       "      <td>2018-03-03</td>\n",
       "    </tr>\n",
       "    <tr>\n",
       "      <th>1</th>\n",
       "      <td>2018-03-04</td>\n",
       "      <td>0.054634</td>\n",
       "      <td>-1.000000</td>\n",
       "      <td>0.190002</td>\n",
       "      <td>2018-03-04</td>\n",
       "    </tr>\n",
       "    <tr>\n",
       "      <th>2</th>\n",
       "      <td>2018-03-05</td>\n",
       "      <td>0.025303</td>\n",
       "      <td>0.428571</td>\n",
       "      <td>0.308881</td>\n",
       "      <td>2018-03-05</td>\n",
       "    </tr>\n",
       "    <tr>\n",
       "      <th>3</th>\n",
       "      <td>2018-03-06</td>\n",
       "      <td>0.058877</td>\n",
       "      <td>0.666667</td>\n",
       "      <td>0.163440</td>\n",
       "      <td>2018-03-06</td>\n",
       "    </tr>\n",
       "    <tr>\n",
       "      <th>4</th>\n",
       "      <td>2018-03-07</td>\n",
       "      <td>0.008555</td>\n",
       "      <td>-1.666667</td>\n",
       "      <td>0.220010</td>\n",
       "      <td>2018-03-07</td>\n",
       "    </tr>\n",
       "  </tbody>\n",
       "</table>\n",
       "</div>"
      ],
      "text/plain": [
       "        date  polarity  sentiment    watson   datetime\n",
       "0 2018-03-03  0.248295   2.000000 -0.411911 2018-03-03\n",
       "1 2018-03-04  0.054634  -1.000000  0.190002 2018-03-04\n",
       "2 2018-03-05  0.025303   0.428571  0.308881 2018-03-05\n",
       "3 2018-03-06  0.058877   0.666667  0.163440 2018-03-06\n",
       "4 2018-03-07  0.008555  -1.666667  0.220010 2018-03-07"
      ]
     },
     "execution_count": 27,
     "metadata": {},
     "output_type": "execute_result"
    }
   ],
   "source": [
    "# Open adjusted UBS file containing all sentiment scores \n",
    "UBS_means_adjusted_df = pd.read_excel('UBS_means_adjusted_df.xlsx')\n",
    "\n",
    "# Transform date to datetime format\n",
    "UBS_means_adjusted_df['datetime'] = pd.to_datetime(UBS_means_adjusted_df['date'])\n",
    "\n",
    "# Display head of newly created dataframe\n",
    "UBS_means_adjusted_df.head()"
   ]
  },
  {
   "cell_type": "markdown",
   "metadata": {},
   "source": [
    "#### Plot for daily average score "
   ]
  },
  {
   "cell_type": "code",
   "execution_count": 28,
   "metadata": {},
   "outputs": [
    {
     "data": {
      "text/plain": [
       "<matplotlib.axes._subplots.AxesSubplot at 0x1a52a05d68>"
      ]
     },
     "execution_count": 28,
     "metadata": {},
     "output_type": "execute_result"
    },
    {
     "data": {
      "image/png": "[encoded data removed]",
      "text/plain": [
       "<Figure size 1440x360 with 1 Axes>"
      ]
     },
     "metadata": {},
     "output_type": "display_data"
    }
   ],
   "source": [
    "UBS_means_adjusted_df.plot(legend = True, label = 'Daily Sentiment Score', \n",
    "                                    figsize = (20, 5))"
   ]
  },
  {
   "cell_type": "code",
   "execution_count": 29,
   "metadata": {},
   "outputs": [
    {
     "data": {
      "image/png": "[encoded data removed]",
      "text/plain": [
       "<Figure size 1440x360 with 1 Axes>"
      ]
     },
     "metadata": {},
     "output_type": "display_data"
    }
   ],
   "source": [
    "# Plot for Watson Sentiment and Polarity\n",
    "plt.figure(figsize=(20,5))\n",
    "plt.plot(UBS_means_adjusted_df['datetime'],UBS_means_adjusted_df['polarity'])\n",
    "#plt.plot(UBS_means_adjusted_df['datetime'],UBS_means_adjusted_df['watson'])\n",
    "plt.show()"
   ]
  },
  {
   "cell_type": "markdown",
   "metadata": {},
   "source": [
    "#### Create Excel File"
   ]
  },
  {
   "cell_type": "code",
   "execution_count": 30,
   "metadata": {},
   "outputs": [
    {
     "name": "stderr",
     "output_type": "stream",
     "text": [
      "/Users/Jannick/anaconda3/lib/python3.6/site-packages/xlsxwriter/worksheet.py:830: UserWarning: Ignoring URL 'https://i.guim.co.uk/img/media/a0513d544ecb7ac1219f26cd76c513ebe40c7788/0_57_4096_2457/4096.jpg?w=1200&amp;h=630&amp;q=55&amp;auto=format&amp;usm=12&amp;fit=crop&amp;crop=faces%2Centropy&amp;bm=normal&amp;ba=bottom%2Cleft&amp;blend64=aHR0cHM6Ly91cGxvYWRzLmd1aW0uY28udWsvMjAxOC8wMS8zMS9mYWNlYm9va19kZWZhdWx0LnBuZw&amp;s=15975c6a4df1ef60177b9e899855e082' with link or location/anchor > 255 characters since it exceeds Excel's limit for URLS\n",
      "  force_unicode(url))\n"
     ]
    }
   ],
   "source": [
    "# Create a Pandas Excel writer using XlsxWriter as the engine.\n",
    "writer = pd.ExcelWriter('UBS_df.xlsx', engine='xlsxwriter')\n",
    "\n",
    "# Convert the dataframe to an XlsxWriter Excel object.\n",
    "UBS_df.to_excel(writer, sheet_name='Sheet1')\n",
    "\n",
    "# Close the Pandas Excel writer and output the Excel file.\n",
    "writer.save()"
   ]
  },
  {
   "cell_type": "code",
   "execution_count": 31,
   "metadata": {},
   "outputs": [
    {
     "data": {
      "text/html": [
       "<div>\n",
       "<table border=\"1\" class=\"dataframe\">\n",
       "  <thead>\n",
       "    <tr style=\"text-align: right;\">\n",
       "      <th></th>\n",
       "      <th>author</th>\n",
       "      <th>country</th>\n",
       "      <th>crawl_date</th>\n",
       "      <th>enriched_text</th>\n",
       "      <th>enriched_title</th>\n",
       "      <th>external_links</th>\n",
       "      <th>extracted_metadata</th>\n",
       "      <th>forum_title</th>\n",
       "      <th>highlight</th>\n",
       "      <th>host</th>\n",
       "      <th>...</th>\n",
       "      <th>text</th>\n",
       "      <th>title</th>\n",
       "      <th>url</th>\n",
       "      <th>datetime</th>\n",
       "      <th>tokens</th>\n",
       "      <th>num_occurr_pos</th>\n",
       "      <th>num_occurr_neg</th>\n",
       "      <th>num_occurr_lit</th>\n",
       "      <th>num_occurr_unc</th>\n",
       "      <th>sentiment_score</th>\n",
       "    </tr>\n",
       "  </thead>\n",
       "  <tbody>\n",
       "    <tr>\n",
       "      <th>0</th>\n",
       "      <td>NaN</td>\n",
       "      <td>CH</td>\n",
       "      <td>2018-03-09T08:21:34Z</td>\n",
       "      <td>{'entities': [{'count': 10, 'sentiment': {'sco...</td>\n",
       "      <td>{'entities': [{'count': 1, 'sentiment': {'scor...</td>\n",
       "      <td>NaN</td>\n",
       "      <td>{'sha1': '383c3c4c371211a450fb15a5a547c967a702...</td>\n",
       "      <td>SIX Swiss Exchange | Equity issuer newsfeed</td>\n",
       "      <td>{'enriched_text.semantic_roles.object.entities...</td>\n",
       "      <td>six-swiss-exchange.com</td>\n",
       "      <td>...</td>\n",
       "      <td>UBS publishes Annual Report 2017 Latest media ...</td>\n",
       "      <td>UBS Group AG</td>\n",
       "      <td>http://www.six-swiss-exchange.com/issuers/serv...</td>\n",
       "      <td>2018-03-09 00:00:00</td>\n",
       "      <td>[publish, annual, report, latest, media, relea...</td>\n",
       "      <td>4</td>\n",
       "      <td>1</td>\n",
       "      <td>3</td>\n",
       "      <td>2</td>\n",
       "      <td>3</td>\n",
       "    </tr>\n",
       "    <tr>\n",
       "      <th>1</th>\n",
       "      <td>AP연합뉴스 | 네이버 뉴스</td>\n",
       "      <td>KR</td>\n",
       "      <td>2018-05-03T09:55:57Z</td>\n",
       "      <td>{'entities': [{'count': 2, 'sentiment': {'scor...</td>\n",
       "      <td>{'entities': [{'count': 1, 'sentiment': {'scor...</td>\n",
       "      <td>[http://www.hellophoto.kr/?did=1195s, https://...</td>\n",
       "      <td>{'sha1': '1e59d0bd5c545cede135fcdb1bf20d1beb3d...</td>\n",
       "      <td>NaN</td>\n",
       "      <td>{'enriched_text.semantic_roles.object.entities...</td>\n",
       "      <td>news.naver.com</td>\n",
       "      <td>...</td>\n",
       "      <td>Axel A. Weber, Chairman of the Board of Direct...</td>\n",
       "      <td>Switzerland UBS</td>\n",
       "      <td>http://news.naver.com/main/read.nhn?oid=077&amp;ai...</td>\n",
       "      <td>2018-05-03 09:48:00</td>\n",
       "      <td>[axel, weber, chairman, board, director, swiss...</td>\n",
       "      <td>0</td>\n",
       "      <td>0</td>\n",
       "      <td>0</td>\n",
       "      <td>1</td>\n",
       "      <td>0</td>\n",
       "    </tr>\n",
       "    <tr>\n",
       "      <th>2</th>\n",
       "      <td>From cnbc.com</td>\n",
       "      <td>US</td>\n",
       "      <td>2018-04-16T11:13:10Z</td>\n",
       "      <td>{'entities': [{'count': 1, 'sentiment': {'scor...</td>\n",
       "      <td>{'entities': [{'count': 1, 'sentiment': {'scor...</td>\n",
       "      <td>NaN</td>\n",
       "      <td>{'sha1': '6288a551e9ff88927f298712297ecc64bb3e...</td>\n",
       "      <td>FF All News</td>\n",
       "      <td>{'enriched_text.semantic_roles.object.entities...</td>\n",
       "      <td>forexfactory.com</td>\n",
       "      <td>...</td>\n",
       "      <td>From cnbc.com The super wealthy want more out ...</td>\n",
       "      <td>The ultra-rich want to make money through good...</td>\n",
       "      <td>https://www.forexfactory.com/news.php?do=news&amp;...</td>\n",
       "      <td>2018-04-16 10:35:00</td>\n",
       "      <td>[cnbc.com, super, wealthi, want, invest, day, ...</td>\n",
       "      <td>3</td>\n",
       "      <td>2</td>\n",
       "      <td>0</td>\n",
       "      <td>0</td>\n",
       "      <td>1</td>\n",
       "    </tr>\n",
       "    <tr>\n",
       "      <th>3</th>\n",
       "      <td>Yen Nee Lee</td>\n",
       "      <td>US</td>\n",
       "      <td>2018-04-16T01:23:30Z</td>\n",
       "      <td>{'entities': [{'count': 1, 'sentiment': {'scor...</td>\n",
       "      <td>{'entities': [{'count': 1, 'sentiment': {'scor...</td>\n",
       "      <td>NaN</td>\n",
       "      <td>{'sha1': '4d5fea48b773dd3534a442c024fd8c192b09...</td>\n",
       "      <td>World News &amp;amp;amp; Analysis</td>\n",
       "      <td>{'enriched_text.semantic_roles.object.entities...</td>\n",
       "      <td>cnbc.com</td>\n",
       "      <td>...</td>\n",
       "      <td>The super wealthy want more out of their inves...</td>\n",
       "      <td>UBS: Ultra-high net worth investors find susta...</td>\n",
       "      <td>https://www.cnbc.com/2018/04/15/ubs-ultra-high...</td>\n",
       "      <td>2018-04-16 02:21:00</td>\n",
       "      <td>[super, wealthi, want, invest, day, addit, fin...</td>\n",
       "      <td>2</td>\n",
       "      <td>1</td>\n",
       "      <td>0</td>\n",
       "      <td>0</td>\n",
       "      <td>1</td>\n",
       "    </tr>\n",
       "    <tr>\n",
       "      <th>4</th>\n",
       "      <td>EPA연합뉴스 | 네이버 뉴스</td>\n",
       "      <td>KR</td>\n",
       "      <td>2018-05-03T11:33:08Z</td>\n",
       "      <td>{'entities': [{'count': 1, 'sentiment': {'scor...</td>\n",
       "      <td>{'entities': [{'count': 1, 'sentiment': {'scor...</td>\n",
       "      <td>[http://www.hellophoto.kr/?did=1195s, https://...</td>\n",
       "      <td>{'sha1': 'ad83676b0e7dd231b26b25a5ce1cfb7b5039...</td>\n",
       "      <td>NaN</td>\n",
       "      <td>{'enriched_text.relations.arguments.entities.t...</td>\n",
       "      <td>news.naver.com</td>\n",
       "      <td>...</td>\n",
       "      <td>UBS general assembly Sergio P. Ermotti, Group ...</td>\n",
       "      <td>SWITZERLAND UBS GENERAL ASSEMBLY</td>\n",
       "      <td>http://news.naver.com/main/read.nhn?oid=091&amp;ai...</td>\n",
       "      <td>2018-05-03 09:44:00</td>\n",
       "      <td>[gener, assembl, sergio, ermotti, group, chief...</td>\n",
       "      <td>0</td>\n",
       "      <td>1</td>\n",
       "      <td>0</td>\n",
       "      <td>1</td>\n",
       "      <td>-1</td>\n",
       "    </tr>\n",
       "  </tbody>\n",
       "</table>\n",
       "<p>5 rows × 26 columns</p>\n",
       "</div>"
      ],
      "text/plain": [
       "             author country            crawl_date  \\\n",
       "0               NaN      CH  2018-03-09T08:21:34Z   \n",
       "1   AP연합뉴스 | 네이버 뉴스      KR  2018-05-03T09:55:57Z   \n",
       "2     From cnbc.com      US  2018-04-16T11:13:10Z   \n",
       "3       Yen Nee Lee      US  2018-04-16T01:23:30Z   \n",
       "4  EPA연합뉴스 | 네이버 뉴스      KR  2018-05-03T11:33:08Z   \n",
       "\n",
       "                                       enriched_text  \\\n",
       "0  {'entities': [{'count': 10, 'sentiment': {'sco...   \n",
       "1  {'entities': [{'count': 2, 'sentiment': {'scor...   \n",
       "2  {'entities': [{'count': 1, 'sentiment': {'scor...   \n",
       "3  {'entities': [{'count': 1, 'sentiment': {'scor...   \n",
       "4  {'entities': [{'count': 1, 'sentiment': {'scor...   \n",
       "\n",
       "                                      enriched_title  \\\n",
       "0  {'entities': [{'count': 1, 'sentiment': {'scor...   \n",
       "1  {'entities': [{'count': 1, 'sentiment': {'scor...   \n",
       "2  {'entities': [{'count': 1, 'sentiment': {'scor...   \n",
       "3  {'entities': [{'count': 1, 'sentiment': {'scor...   \n",
       "4  {'entities': [{'count': 1, 'sentiment': {'scor...   \n",
       "\n",
       "                                      external_links  \\\n",
       "0                                                NaN   \n",
       "1  [http://www.hellophoto.kr/?did=1195s, https://...   \n",
       "2                                                NaN   \n",
       "3                                                NaN   \n",
       "4  [http://www.hellophoto.kr/?did=1195s, https://...   \n",
       "\n",
       "                                  extracted_metadata  \\\n",
       "0  {'sha1': '383c3c4c371211a450fb15a5a547c967a702...   \n",
       "1  {'sha1': '1e59d0bd5c545cede135fcdb1bf20d1beb3d...   \n",
       "2  {'sha1': '6288a551e9ff88927f298712297ecc64bb3e...   \n",
       "3  {'sha1': '4d5fea48b773dd3534a442c024fd8c192b09...   \n",
       "4  {'sha1': 'ad83676b0e7dd231b26b25a5ce1cfb7b5039...   \n",
       "\n",
       "                                   forum_title  \\\n",
       "0  SIX Swiss Exchange | Equity issuer newsfeed   \n",
       "1                                          NaN   \n",
       "2                                  FF All News   \n",
       "3                World News &amp;amp; Analysis   \n",
       "4                                          NaN   \n",
       "\n",
       "                                           highlight                    host  \\\n",
       "0  {'enriched_text.semantic_roles.object.entities...  six-swiss-exchange.com   \n",
       "1  {'enriched_text.semantic_roles.object.entities...          news.naver.com   \n",
       "2  {'enriched_text.semantic_roles.object.entities...        forexfactory.com   \n",
       "3  {'enriched_text.semantic_roles.object.entities...                cnbc.com   \n",
       "4  {'enriched_text.relations.arguments.entities.t...          news.naver.com   \n",
       "\n",
       "        ...                                                     text  \\\n",
       "0       ...        UBS publishes Annual Report 2017 Latest media ...   \n",
       "1       ...        Axel A. Weber, Chairman of the Board of Direct...   \n",
       "2       ...        From cnbc.com The super wealthy want more out ...   \n",
       "3       ...        The super wealthy want more out of their inves...   \n",
       "4       ...        UBS general assembly Sergio P. Ermotti, Group ...   \n",
       "\n",
       "                                               title  \\\n",
       "0                                       UBS Group AG   \n",
       "1                                    Switzerland UBS   \n",
       "2  The ultra-rich want to make money through good...   \n",
       "3  UBS: Ultra-high net worth investors find susta...   \n",
       "4                   SWITZERLAND UBS GENERAL ASSEMBLY   \n",
       "\n",
       "                                                 url            datetime  \\\n",
       "0  http://www.six-swiss-exchange.com/issuers/serv... 2018-03-09 00:00:00   \n",
       "1  http://news.naver.com/main/read.nhn?oid=077&ai... 2018-05-03 09:48:00   \n",
       "2  https://www.forexfactory.com/news.php?do=news&... 2018-04-16 10:35:00   \n",
       "3  https://www.cnbc.com/2018/04/15/ubs-ultra-high... 2018-04-16 02:21:00   \n",
       "4  http://news.naver.com/main/read.nhn?oid=091&ai... 2018-05-03 09:44:00   \n",
       "\n",
       "                                              tokens num_occurr_pos  \\\n",
       "0  [publish, annual, report, latest, media, relea...              4   \n",
       "1  [axel, weber, chairman, board, director, swiss...              0   \n",
       "2  [cnbc.com, super, wealthi, want, invest, day, ...              3   \n",
       "3  [super, wealthi, want, invest, day, addit, fin...              2   \n",
       "4  [gener, assembl, sergio, ermotti, group, chief...              0   \n",
       "\n",
       "  num_occurr_neg num_occurr_lit num_occurr_unc sentiment_score  \n",
       "0              1              3              2               3  \n",
       "1              0              0              1               0  \n",
       "2              2              0              0               1  \n",
       "3              1              0              0               1  \n",
       "4              1              0              1              -1  \n",
       "\n",
       "[5 rows x 26 columns]"
      ]
     },
     "execution_count": 31,
     "metadata": {},
     "output_type": "execute_result"
    }
   ],
   "source": [
    "UBS_df.head()"
   ]
  },
  {
   "cell_type": "markdown",
   "metadata": {},
   "source": [
    "### Nestle: Apply Text Mining Function"
   ]
  },
  {
   "cell_type": "code",
   "execution_count": 32,
   "metadata": {},
   "outputs": [],
   "source": [
    "# Text mine function for Nestle\n",
    "def text_mine_articles(Nestle_df, bag_of_words,alignment):\n",
    "    \n",
    "    bag_of_words = tokenize(bag_of_words)\n",
    "    Nestle_df['num_occurr_'+alignment] = 0\n",
    "    \n",
    "    # 'Set' to make the counting operation faster\n",
    "    set_of_words = set(bag_of_words)\n",
    "    \n",
    "    print('Text mine articles...'),\n",
    "    \n",
    "    for j in range(0, len(Nestle_df)):\n",
    "        \n",
    "        # Convert article body into a list of tokens\n",
    "        tokenized_article = tokenize(Nestle_df['text'][j])\n",
    "        \n",
    "        # Count occurrences of the dictionary of words\n",
    "        occurrences = [word for word in tokenized_article\n",
    "                        if word in set_of_words]\n",
    "        \n",
    "        # Copy amount of occurrences found to the dataframe\n",
    "        amount = len(occurrences)\n",
    "        Nestle_df['num_occurr_'+alignment][j] = amount\n",
    "        \n",
    "    # Compute frequency of occurrence found in each article dividing\n",
    "    # the amount of words counted as occurrences by the amount of words in the article\n",
    "    # UBS_df['freq_occurr_'+alignment] = UBS_df['num_occurr_'+alignment]/UBS_df['word_count']   \n",
    "   \n",
    "    print('Done!')\n",
    " \n",
    "    return Nestle_df"
   ]
  },
  {
   "cell_type": "code",
   "execution_count": 33,
   "metadata": {},
   "outputs": [
    {
     "name": "stdout",
     "output_type": "stream",
     "text": [
      "Text mine articles...\n"
     ]
    },
    {
     "name": "stderr",
     "output_type": "stream",
     "text": [
      "/Users/Jannick/anaconda3/lib/python3.6/site-packages/ipykernel_launcher.py:23: SettingWithCopyWarning: \n",
      "A value is trying to be set on a copy of a slice from a DataFrame\n",
      "\n",
      "See the caveats in the documentation: http://pandas.pydata.org/pandas-docs/stable/indexing.html#indexing-view-versus-copy\n"
     ]
    },
    {
     "name": "stdout",
     "output_type": "stream",
     "text": [
      "Done!\n",
      "Text mine articles...\n",
      "Done!\n",
      "Text mine articles...\n",
      "Done!\n",
      "Text mine articles...\n",
      "Done!\n"
     ]
    }
   ],
   "source": [
    "# Text mine all articles for each sentiment (positive, negative, litigious, uncertain)\n",
    "Nestle_df = text_mine_articles(Nestle_df, pos,'pos')\n",
    "Nestle_df = text_mine_articles(Nestle_df, neg,'neg')\n",
    "Nestle_df = text_mine_articles(Nestle_df, lit,'lit')\n",
    "Nestle_df = text_mine_articles(Nestle_df, unc,'unc')"
   ]
  },
  {
   "cell_type": "markdown",
   "metadata": {},
   "source": [
    "### Sentiment Score"
   ]
  },
  {
   "cell_type": "code",
   "execution_count": 34,
   "metadata": {},
   "outputs": [],
   "source": [
    "## Sentiment Score Nestle\n",
    "# The following function provides a simple function to create a sentiment score\n",
    "Nestle_df['sentiment_score'] = Nestle_df['num_occurr_pos'] - Nestle_df['num_occurr_neg']"
   ]
  },
  {
   "cell_type": "markdown",
   "metadata": {},
   "source": [
    "#### Daily Average Score"
   ]
  },
  {
   "cell_type": "code",
   "execution_count": 35,
   "metadata": {},
   "outputs": [
    {
     "data": {
      "text/html": [
       "<div>\n",
       "<table border=\"1\" class=\"dataframe\">\n",
       "  <thead>\n",
       "    <tr style=\"text-align: right;\">\n",
       "      <th></th>\n",
       "      <th>publication_date</th>\n",
       "      <th>sentiment_score</th>\n",
       "      <th>watson_sentiment_score</th>\n",
       "      <th>polarity</th>\n",
       "      <th>subjectivity</th>\n",
       "    </tr>\n",
       "  </thead>\n",
       "  <tbody>\n",
       "    <tr>\n",
       "      <th>0</th>\n",
       "      <td>2018-03-04</td>\n",
       "      <td>0</td>\n",
       "      <td>0.337530</td>\n",
       "      <td>-0.031250</td>\n",
       "      <td>0.193750</td>\n",
       "    </tr>\n",
       "    <tr>\n",
       "      <th>1</th>\n",
       "      <td>2018-03-06</td>\n",
       "      <td>-2</td>\n",
       "      <td>0.326074</td>\n",
       "      <td>-0.054167</td>\n",
       "      <td>0.270833</td>\n",
       "    </tr>\n",
       "    <tr>\n",
       "      <th>2</th>\n",
       "      <td>2018-03-07</td>\n",
       "      <td>0</td>\n",
       "      <td>0.234258</td>\n",
       "      <td>-0.065000</td>\n",
       "      <td>0.285000</td>\n",
       "    </tr>\n",
       "    <tr>\n",
       "      <th>3</th>\n",
       "      <td>2018-03-07</td>\n",
       "      <td>0</td>\n",
       "      <td>0.234258</td>\n",
       "      <td>-0.065000</td>\n",
       "      <td>0.285000</td>\n",
       "    </tr>\n",
       "    <tr>\n",
       "      <th>4</th>\n",
       "      <td>2018-03-07</td>\n",
       "      <td>2</td>\n",
       "      <td>0.112489</td>\n",
       "      <td>0.049333</td>\n",
       "      <td>0.354000</td>\n",
       "    </tr>\n",
       "  </tbody>\n",
       "</table>\n",
       "</div>"
      ],
      "text/plain": [
       "  publication_date  sentiment_score  watson_sentiment_score  polarity  \\\n",
       "0       2018-03-04                0                0.337530 -0.031250   \n",
       "1       2018-03-06               -2                0.326074 -0.054167   \n",
       "2       2018-03-07                0                0.234258 -0.065000   \n",
       "3       2018-03-07                0                0.234258 -0.065000   \n",
       "4       2018-03-07                2                0.112489  0.049333   \n",
       "\n",
       "   subjectivity  \n",
       "0      0.193750  \n",
       "1      0.270833  \n",
       "2      0.285000  \n",
       "3      0.285000  \n",
       "4      0.354000  "
      ]
     },
     "execution_count": 35,
     "metadata": {},
     "output_type": "execute_result"
    }
   ],
   "source": [
    "Nestle_avg_df = pd.read_excel('Sentiment_Score_Nestle.xlsx')\n",
    "Nestle_avg_df.head()"
   ]
  },
  {
   "cell_type": "code",
   "execution_count": 36,
   "metadata": {},
   "outputs": [],
   "source": [
    "# Transform date into datetime\n",
    "Nestle_avg_df['datetime'] = pd.to_datetime(Nestle_avg_df['publication_date'])"
   ]
  },
  {
   "cell_type": "code",
   "execution_count": 37,
   "metadata": {},
   "outputs": [],
   "source": [
    "# Create .dt.date format\n",
    "Nestle_avg_df['date'] = Nestle_avg_df['publication_date'].dt.date"
   ]
  },
  {
   "cell_type": "code",
   "execution_count": 38,
   "metadata": {},
   "outputs": [],
   "source": [
    "# Creates a function that computes the mean value for each day \n",
    "unique_dates = Nestle_avg_df['date'].unique()\n",
    "Nestle_means_df = pd.DataFrame()\n",
    "\n",
    "for date in unique_dates:\n",
    "    same_date = Nestle_avg_df.loc[Nestle_avg_df['date'] == date]\n",
    "    \n",
    "    sentiment_mean = same_date['sentiment_score'].mean()\n",
    "    watson_mean = same_date['watson_sentiment_score'].mean()\n",
    "    polarity_mean = same_date['polarity'].mean()\n",
    "\n",
    "    Nestle_means_df = Nestle_means_df.append({'sentiment': sentiment_mean, 'watson': watson_mean, \n",
    "                                        'polarity': polarity_mean}, ignore_index=True)"
   ]
  },
  {
   "cell_type": "code",
   "execution_count": 39,
   "metadata": {},
   "outputs": [
    {
     "data": {
      "text/html": [
       "<div>\n",
       "<table border=\"1\" class=\"dataframe\">\n",
       "  <thead>\n",
       "    <tr style=\"text-align: right;\">\n",
       "      <th></th>\n",
       "      <th>polarity</th>\n",
       "      <th>sentiment</th>\n",
       "      <th>watson</th>\n",
       "    </tr>\n",
       "  </thead>\n",
       "  <tbody>\n",
       "    <tr>\n",
       "      <th>0</th>\n",
       "      <td>-0.031250</td>\n",
       "      <td>0.000000</td>\n",
       "      <td>0.337530</td>\n",
       "    </tr>\n",
       "    <tr>\n",
       "      <th>1</th>\n",
       "      <td>-0.054167</td>\n",
       "      <td>-2.000000</td>\n",
       "      <td>0.326074</td>\n",
       "    </tr>\n",
       "    <tr>\n",
       "      <th>2</th>\n",
       "      <td>0.083334</td>\n",
       "      <td>0.428571</td>\n",
       "      <td>0.422974</td>\n",
       "    </tr>\n",
       "    <tr>\n",
       "      <th>3</th>\n",
       "      <td>0.039583</td>\n",
       "      <td>1.250000</td>\n",
       "      <td>0.552919</td>\n",
       "    </tr>\n",
       "    <tr>\n",
       "      <th>4</th>\n",
       "      <td>0.034476</td>\n",
       "      <td>-2.000000</td>\n",
       "      <td>0.410237</td>\n",
       "    </tr>\n",
       "  </tbody>\n",
       "</table>\n",
       "</div>"
      ],
      "text/plain": [
       "   polarity  sentiment    watson\n",
       "0 -0.031250   0.000000  0.337530\n",
       "1 -0.054167  -2.000000  0.326074\n",
       "2  0.083334   0.428571  0.422974\n",
       "3  0.039583   1.250000  0.552919\n",
       "4  0.034476  -2.000000  0.410237"
      ]
     },
     "execution_count": 39,
     "metadata": {},
     "output_type": "execute_result"
    }
   ],
   "source": [
    "Nestle_means_df.head()"
   ]
  },
  {
   "cell_type": "code",
   "execution_count": 40,
   "metadata": {},
   "outputs": [],
   "source": [
    "# Create a Pandas Excel writer using XlsxWriter as the engine.\n",
    "writer = pd.ExcelWriter('Nestle_means_df.xlsx', engine='xlsxwriter')\n",
    "\n",
    "# Convert the dataframe to an XlsxWriter Excel object.\n",
    "Nestle_means_df.to_excel(writer, sheet_name='Sheet1')\n",
    "\n",
    "# Close the Pandas Excel writer and output the Excel file.\n",
    "writer.save()"
   ]
  },
  {
   "cell_type": "code",
   "execution_count": 41,
   "metadata": {},
   "outputs": [
    {
     "data": {
      "text/html": [
       "<div>\n",
       "<table border=\"1\" class=\"dataframe\">\n",
       "  <thead>\n",
       "    <tr style=\"text-align: right;\">\n",
       "      <th></th>\n",
       "      <th>date</th>\n",
       "      <th>polarity</th>\n",
       "      <th>sentiment</th>\n",
       "      <th>watson</th>\n",
       "      <th>datetime</th>\n",
       "    </tr>\n",
       "  </thead>\n",
       "  <tbody>\n",
       "    <tr>\n",
       "      <th>0</th>\n",
       "      <td>2018-03-03</td>\n",
       "      <td>-0.042708</td>\n",
       "      <td>-1.000000</td>\n",
       "      <td>0.331802</td>\n",
       "      <td>2018-03-03</td>\n",
       "    </tr>\n",
       "    <tr>\n",
       "      <th>1</th>\n",
       "      <td>2018-03-04</td>\n",
       "      <td>0.064522</td>\n",
       "      <td>0.583333</td>\n",
       "      <td>0.479074</td>\n",
       "      <td>2018-03-04</td>\n",
       "    </tr>\n",
       "    <tr>\n",
       "      <th>2</th>\n",
       "      <td>2018-03-05</td>\n",
       "      <td>0.056555</td>\n",
       "      <td>0.142857</td>\n",
       "      <td>0.379411</td>\n",
       "      <td>2018-03-05</td>\n",
       "    </tr>\n",
       "    <tr>\n",
       "      <th>3</th>\n",
       "      <td>2018-03-06</td>\n",
       "      <td>0.129104</td>\n",
       "      <td>0.888889</td>\n",
       "      <td>0.317479</td>\n",
       "      <td>2018-03-06</td>\n",
       "    </tr>\n",
       "    <tr>\n",
       "      <th>4</th>\n",
       "      <td>2018-03-07</td>\n",
       "      <td>0.080297</td>\n",
       "      <td>0.888889</td>\n",
       "      <td>0.322605</td>\n",
       "      <td>2018-03-07</td>\n",
       "    </tr>\n",
       "  </tbody>\n",
       "</table>\n",
       "</div>"
      ],
      "text/plain": [
       "        date  polarity  sentiment    watson   datetime\n",
       "0 2018-03-03 -0.042708  -1.000000  0.331802 2018-03-03\n",
       "1 2018-03-04  0.064522   0.583333  0.479074 2018-03-04\n",
       "2 2018-03-05  0.056555   0.142857  0.379411 2018-03-05\n",
       "3 2018-03-06  0.129104   0.888889  0.317479 2018-03-06\n",
       "4 2018-03-07  0.080297   0.888889  0.322605 2018-03-07"
      ]
     },
     "execution_count": 41,
     "metadata": {},
     "output_type": "execute_result"
    }
   ],
   "source": [
    "# Open adjusted UBS file containing all sentiment scores \n",
    "Nestle_means_adjusted_df = pd.read_excel('Nestle_means_adjusted_df.xlsx')\n",
    "\n",
    "# Transform date to datetime format\n",
    "Nestle_means_adjusted_df['datetime'] = pd.to_datetime(Nestle_means_adjusted_df['date'])\n",
    "\n",
    "# Display head of newly created dataframe\n",
    "Nestle_means_adjusted_df.head()"
   ]
  },
  {
   "cell_type": "markdown",
   "metadata": {},
   "source": [
    "#### Plot for daily average score"
   ]
  },
  {
   "cell_type": "code",
   "execution_count": 42,
   "metadata": {},
   "outputs": [
    {
     "data": {
      "image/png": "[encoded data removed]",
      "text/plain": [
       "<Figure size 1440x360 with 1 Axes>"
      ]
     },
     "metadata": {},
     "output_type": "display_data"
    }
   ],
   "source": [
    "plt.figure(figsize=(20,5))\n",
    "plt.plot(Nestle_means_adjusted_df['datetime'],Nestle_means_adjusted_df['polarity'])\n",
    "plt.plot(Nestle_means_adjusted_df['datetime'],Nestle_means_adjusted_df['sentiment'])\n",
    "plt.plot(Nestle_means_adjusted_df['datetime'],Nestle_means_adjusted_df['watson'])\n",
    "plt.show()\n",
    "#Nestle_means_adjusted_df.plot(legend = True, label = 'Daily Sentiment Score',figsize = (20, 5))"
   ]
  },
  {
   "cell_type": "code",
   "execution_count": 43,
   "metadata": {},
   "outputs": [
    {
     "data": {
      "image/png": "[encoded data removed]",
      "text/plain": [
       "<Figure size 1440x360 with 1 Axes>"
      ]
     },
     "metadata": {},
     "output_type": "display_data"
    }
   ],
   "source": [
    "# Plot for Watson Sentiment and Polarity\n",
    "plt.figure(figsize=(20,5))\n",
    "plt.plot(Nestle_means_adjusted_df['datetime'],Nestle_means_adjusted_df['polarity'])\n",
    "# plt.plot(Nestle_means_adjusted_df['datetime'],Nestle_means_adjusted_df['watson'])\n",
    "plt.show()"
   ]
  },
  {
   "cell_type": "markdown",
   "metadata": {},
   "source": [
    "#### Create Excel File"
   ]
  },
  {
   "cell_type": "code",
   "execution_count": 44,
   "metadata": {},
   "outputs": [
    {
     "name": "stderr",
     "output_type": "stream",
     "text": [
      "/Users/Jannick/anaconda3/lib/python3.6/site-packages/xlsxwriter/worksheet.py:830: UserWarning: Ignoring URL 'https://www.thehindubusinessline.com/migration_catalog/article18318387.ece/ALTERNATES/LANDSCAPE_615/The%20Nestle%20logo%20is%20pictured%20on%20the%20company%20headquarters%20entrance%20building%20in%20Vevey%20Switzerland%20February%2018%202016%20REUTERSPierre%20AlbouyFile%20Photo' with link or location/anchor > 255 characters since it exceeds Excel's limit for URLS\n",
      "  force_unicode(url))\n",
      "/Users/Jannick/anaconda3/lib/python3.6/site-packages/xlsxwriter/worksheet.py:830: UserWarning: Ignoring URL 'https://i.guim.co.uk/img/media/41a7fa38071bce7635b8a540ee230fec48ebe92c/85_2_1838_1103/master/1838.jpg?w=1200&amp;h=630&amp;q=55&amp;auto=format&amp;usm=12&amp;fit=crop&amp;crop=faces%2Centropy&amp;bm=normal&amp;ba=bottom%2Cleft&amp;blend64=aHR0cHM6Ly91cGxvYWRzLmd1aW0uY28udWsvMjAxOC8wMS8zMS9mYWNlYm9va19kZWZhdWx0LnBuZw&amp;s=4f38784467b55888f82e01025916c162' with link or location/anchor > 255 characters since it exceeds Excel's limit for URLS\n",
      "  force_unicode(url))\n"
     ]
    }
   ],
   "source": [
    "# Create a Pandas Excel writer using XlsxWriter as the engine.\n",
    "writer = pd.ExcelWriter('Nestle_df.xlsx', engine='xlsxwriter')\n",
    "\n",
    "# Convert the dataframe to an XlsxWriter Excel object.\n",
    "Nestle_df.to_excel(writer, sheet_name='Sheet1')\n",
    "\n",
    "# Close the Pandas Excel writer and output the Excel file.\n",
    "writer.save()"
   ]
  },
  {
   "cell_type": "code",
   "execution_count": 45,
   "metadata": {},
   "outputs": [
    {
     "data": {
      "text/html": [
       "<div>\n",
       "<table border=\"1\" class=\"dataframe\">\n",
       "  <thead>\n",
       "    <tr style=\"text-align: right;\">\n",
       "      <th></th>\n",
       "      <th>author</th>\n",
       "      <th>country</th>\n",
       "      <th>crawl_date</th>\n",
       "      <th>enriched_text</th>\n",
       "      <th>enriched_title</th>\n",
       "      <th>external_links</th>\n",
       "      <th>extracted_metadata</th>\n",
       "      <th>forum_title</th>\n",
       "      <th>highlight</th>\n",
       "      <th>host</th>\n",
       "      <th>...</th>\n",
       "      <th>text</th>\n",
       "      <th>title</th>\n",
       "      <th>url</th>\n",
       "      <th>datetime</th>\n",
       "      <th>tokens</th>\n",
       "      <th>num_occurr_pos</th>\n",
       "      <th>num_occurr_neg</th>\n",
       "      <th>num_occurr_lit</th>\n",
       "      <th>num_occurr_unc</th>\n",
       "      <th>sentiment_score</th>\n",
       "    </tr>\n",
       "  </thead>\n",
       "  <tbody>\n",
       "    <tr>\n",
       "      <th>0</th>\n",
       "      <td>EPA연합뉴스 | 네이버 뉴스</td>\n",
       "      <td>KR</td>\n",
       "      <td>2018-04-12T15:45:52Z</td>\n",
       "      <td>{'entities': [{'count': 2, 'sentiment': {'scor...</td>\n",
       "      <td>{'entities': [{'count': 1, 'sentiment': {'scor...</td>\n",
       "      <td>[http://www.hellophoto.kr/?did=1195s, https://...</td>\n",
       "      <td>{'sha1': '39e1180c6da58c5c00e2bd49cf5f41f8dcb9...</td>\n",
       "      <td>NaN</td>\n",
       "      <td>{'enriched_text.semantic_roles.object.text': [...</td>\n",
       "      <td>news.naver.com</td>\n",
       "      <td>...</td>\n",
       "      <td>Nestle annual general meeting in Lausanne A Ne...</td>\n",
       "      <td>SWITZERLAND NESTLE ANNUAL GENERAL MEETING</td>\n",
       "      <td>http://news.naver.com/main/read.nhn?oid=091&amp;ai...</td>\n",
       "      <td>2018-04-12 13:54:00</td>\n",
       "      <td>[nestl, annual, gener, meet, lausann, nestl, l...</td>\n",
       "      <td>0</td>\n",
       "      <td>0</td>\n",
       "      <td>0</td>\n",
       "      <td>0</td>\n",
       "      <td>0</td>\n",
       "    </tr>\n",
       "    <tr>\n",
       "      <th>1</th>\n",
       "      <td>EPA연합뉴스 | 네이버 뉴스</td>\n",
       "      <td>KR</td>\n",
       "      <td>2018-04-18T13:27:01Z</td>\n",
       "      <td>{'entities': [{'count': 3, 'sentiment': {'scor...</td>\n",
       "      <td>{'entities': [{'count': 1, 'sentiment': {'scor...</td>\n",
       "      <td>[http://www.hellophoto.kr/?did=1195s, https://...</td>\n",
       "      <td>{'sha1': '47edd4829253b226a92bc85f1e16afbc1f3a...</td>\n",
       "      <td>NaN</td>\n",
       "      <td>{'enriched_text.semantic_roles.object.text': [...</td>\n",
       "      <td>news.naver.com</td>\n",
       "      <td>...</td>\n",
       "      <td>Nestle results (FILE) - A file picture dated 0...</td>\n",
       "      <td>(FILE) SWITZERLAND ECONOMY NESTLE 뉴스</td>\n",
       "      <td>http://news.naver.com/main/read.nhn?oid=091&amp;ai...</td>\n",
       "      <td>2018-04-18 13:09:00</td>\n",
       "      <td>[nestl, result, file, file, pictur, date, apri...</td>\n",
       "      <td>0</td>\n",
       "      <td>0</td>\n",
       "      <td>0</td>\n",
       "      <td>0</td>\n",
       "      <td>0</td>\n",
       "    </tr>\n",
       "    <tr>\n",
       "      <th>2</th>\n",
       "      <td>NaN</td>\n",
       "      <td>FR</td>\n",
       "      <td>2018-04-25T00:37:16Z</td>\n",
       "      <td>{'entities': [{'count': 2, 'sentiment': {'scor...</td>\n",
       "      <td>{'entities': [], 'sentiment': {'document': {'s...</td>\n",
       "      <td>NaN</td>\n",
       "      <td>{'sha1': '3f4ad04a276645e05ba83f14eaca15a1e3a2...</td>\n",
       "      <td>Nigeria News (News Reader) |</td>\n",
       "      <td>{'enriched_text.semantic_roles.object.text': [...</td>\n",
       "      <td>nigeria.shafaqna.com</td>\n",
       "      <td>...</td>\n",
       "      <td>7 hours ago Nestle tops gainers’ chart at NSE ...</td>\n",
       "      <td>Nestle tops gainers’ chart at NSE</td>\n",
       "      <td>http://nigeria.shafaqna.com/EN/NG/5309082</td>\n",
       "      <td>2018-04-24 17:27:00</td>\n",
       "      <td>[hour, ago, nestl, top, gainer, chart, nse, pr...</td>\n",
       "      <td>0</td>\n",
       "      <td>1</td>\n",
       "      <td>0</td>\n",
       "      <td>1</td>\n",
       "      <td>-1</td>\n",
       "    </tr>\n",
       "    <tr>\n",
       "      <th>3</th>\n",
       "      <td>in_admin</td>\n",
       "      <td>IN</td>\n",
       "      <td>2018-05-04T12:49:27Z</td>\n",
       "      <td>{'entities': [{'count': 3, 'sentiment': {'scor...</td>\n",
       "      <td>{'entities': [], 'sentiment': {'document': {'s...</td>\n",
       "      <td>NaN</td>\n",
       "      <td>{'sha1': '74c17e617afaf7b34b6b9a5e88699e2d174e...</td>\n",
       "      <td>IBNMoney India In</td>\n",
       "      <td>{'enriched_text.relations.arguments.entities.t...</td>\n",
       "      <td>in.ibnmoney.com</td>\n",
       "      <td>...</td>\n",
       "      <td>Nestle settles months-long pricing scrap with ...</td>\n",
       "      <td>Nestle settles months-long pricing scrap with ...</td>\n",
       "      <td>http://in.ibnmoney.com/2018/05/04/nestle-settl...</td>\n",
       "      <td>2018-05-04 12:30:00</td>\n",
       "      <td>[nestl, settl, months-long, price, scrap, euro...</td>\n",
       "      <td>0</td>\n",
       "      <td>1</td>\n",
       "      <td>0</td>\n",
       "      <td>2</td>\n",
       "      <td>-1</td>\n",
       "    </tr>\n",
       "    <tr>\n",
       "      <th>4</th>\n",
       "      <td>NaN</td>\n",
       "      <td>US</td>\n",
       "      <td>2018-05-04T16:50:23Z</td>\n",
       "      <td>{'entities': [{'count': 1, 'sentiment': {'scor...</td>\n",
       "      <td>{'entities': [{'count': 1, 'sentiment': {'scor...</td>\n",
       "      <td>NaN</td>\n",
       "      <td>{'sha1': '3e7f5aa52b48d2ef11432e3276843518d129...</td>\n",
       "      <td>SG Talk - All Forums</td>\n",
       "      <td>{'enriched_text.semantic_roles.subject.text': ...</td>\n",
       "      <td>sgtalk.org</td>\n",
       "      <td>...</td>\n",
       "      <td>Nestle , the worlds largest packaged food comp...</td>\n",
       "      <td>Nestle close to deal with Starbucks on its gro...</td>\n",
       "      <td>http://sgtalk.org/mybb/Thread-Nestle-close-to-...</td>\n",
       "      <td>2018-05-04 11:33:00</td>\n",
       "      <td>[nestl, world, largest, packag, food, compani,...</td>\n",
       "      <td>0</td>\n",
       "      <td>1</td>\n",
       "      <td>0</td>\n",
       "      <td>0</td>\n",
       "      <td>-1</td>\n",
       "    </tr>\n",
       "  </tbody>\n",
       "</table>\n",
       "<p>5 rows × 26 columns</p>\n",
       "</div>"
      ],
      "text/plain": [
       "             author country            crawl_date  \\\n",
       "0  EPA연합뉴스 | 네이버 뉴스      KR  2018-04-12T15:45:52Z   \n",
       "1  EPA연합뉴스 | 네이버 뉴스      KR  2018-04-18T13:27:01Z   \n",
       "2               NaN      FR  2018-04-25T00:37:16Z   \n",
       "3          in_admin      IN  2018-05-04T12:49:27Z   \n",
       "4               NaN      US  2018-05-04T16:50:23Z   \n",
       "\n",
       "                                       enriched_text  \\\n",
       "0  {'entities': [{'count': 2, 'sentiment': {'scor...   \n",
       "1  {'entities': [{'count': 3, 'sentiment': {'scor...   \n",
       "2  {'entities': [{'count': 2, 'sentiment': {'scor...   \n",
       "3  {'entities': [{'count': 3, 'sentiment': {'scor...   \n",
       "4  {'entities': [{'count': 1, 'sentiment': {'scor...   \n",
       "\n",
       "                                      enriched_title  \\\n",
       "0  {'entities': [{'count': 1, 'sentiment': {'scor...   \n",
       "1  {'entities': [{'count': 1, 'sentiment': {'scor...   \n",
       "2  {'entities': [], 'sentiment': {'document': {'s...   \n",
       "3  {'entities': [], 'sentiment': {'document': {'s...   \n",
       "4  {'entities': [{'count': 1, 'sentiment': {'scor...   \n",
       "\n",
       "                                      external_links  \\\n",
       "0  [http://www.hellophoto.kr/?did=1195s, https://...   \n",
       "1  [http://www.hellophoto.kr/?did=1195s, https://...   \n",
       "2                                                NaN   \n",
       "3                                                NaN   \n",
       "4                                                NaN   \n",
       "\n",
       "                                  extracted_metadata  \\\n",
       "0  {'sha1': '39e1180c6da58c5c00e2bd49cf5f41f8dcb9...   \n",
       "1  {'sha1': '47edd4829253b226a92bc85f1e16afbc1f3a...   \n",
       "2  {'sha1': '3f4ad04a276645e05ba83f14eaca15a1e3a2...   \n",
       "3  {'sha1': '74c17e617afaf7b34b6b9a5e88699e2d174e...   \n",
       "4  {'sha1': '3e7f5aa52b48d2ef11432e3276843518d129...   \n",
       "\n",
       "                    forum_title  \\\n",
       "0                           NaN   \n",
       "1                           NaN   \n",
       "2  Nigeria News (News Reader) |   \n",
       "3             IBNMoney India In   \n",
       "4          SG Talk - All Forums   \n",
       "\n",
       "                                           highlight                  host  \\\n",
       "0  {'enriched_text.semantic_roles.object.text': [...        news.naver.com   \n",
       "1  {'enriched_text.semantic_roles.object.text': [...        news.naver.com   \n",
       "2  {'enriched_text.semantic_roles.object.text': [...  nigeria.shafaqna.com   \n",
       "3  {'enriched_text.relations.arguments.entities.t...       in.ibnmoney.com   \n",
       "4  {'enriched_text.semantic_roles.subject.text': ...            sgtalk.org   \n",
       "\n",
       "        ...                                                     text  \\\n",
       "0       ...        Nestle annual general meeting in Lausanne A Ne...   \n",
       "1       ...        Nestle results (FILE) - A file picture dated 0...   \n",
       "2       ...        7 hours ago Nestle tops gainers’ chart at NSE ...   \n",
       "3       ...        Nestle settles months-long pricing scrap with ...   \n",
       "4       ...        Nestle , the worlds largest packaged food comp...   \n",
       "\n",
       "                                               title  \\\n",
       "0          SWITZERLAND NESTLE ANNUAL GENERAL MEETING   \n",
       "1               (FILE) SWITZERLAND ECONOMY NESTLE 뉴스   \n",
       "2                  Nestle tops gainers’ chart at NSE   \n",
       "3  Nestle settles months-long pricing scrap with ...   \n",
       "4  Nestle close to deal with Starbucks on its gro...   \n",
       "\n",
       "                                                 url            datetime  \\\n",
       "0  http://news.naver.com/main/read.nhn?oid=091&ai... 2018-04-12 13:54:00   \n",
       "1  http://news.naver.com/main/read.nhn?oid=091&ai... 2018-04-18 13:09:00   \n",
       "2          http://nigeria.shafaqna.com/EN/NG/5309082 2018-04-24 17:27:00   \n",
       "3  http://in.ibnmoney.com/2018/05/04/nestle-settl... 2018-05-04 12:30:00   \n",
       "4  http://sgtalk.org/mybb/Thread-Nestle-close-to-... 2018-05-04 11:33:00   \n",
       "\n",
       "                                              tokens num_occurr_pos  \\\n",
       "0  [nestl, annual, gener, meet, lausann, nestl, l...              0   \n",
       "1  [nestl, result, file, file, pictur, date, apri...              0   \n",
       "2  [hour, ago, nestl, top, gainer, chart, nse, pr...              0   \n",
       "3  [nestl, settl, months-long, price, scrap, euro...              0   \n",
       "4  [nestl, world, largest, packag, food, compani,...              0   \n",
       "\n",
       "  num_occurr_neg num_occurr_lit num_occurr_unc sentiment_score  \n",
       "0              0              0              0               0  \n",
       "1              0              0              0               0  \n",
       "2              1              0              1              -1  \n",
       "3              1              0              2              -1  \n",
       "4              1              0              0              -1  \n",
       "\n",
       "[5 rows x 26 columns]"
      ]
     },
     "execution_count": 45,
     "metadata": {},
     "output_type": "execute_result"
    }
   ],
   "source": [
    "Nestle_df.head()"
   ]
  },
  {
   "cell_type": "markdown",
   "metadata": {},
   "source": [
    "### Roche: Apply Text Mining Function"
   ]
  },
  {
   "cell_type": "code",
   "execution_count": 46,
   "metadata": {},
   "outputs": [],
   "source": [
    "# Text mine function for Roche\n",
    "def text_mine_articles(Roche_df, bag_of_words,alignment):\n",
    "    \n",
    "    bag_of_words = tokenize(bag_of_words)\n",
    "    Roche_df['num_occurr_'+alignment] = 0\n",
    "    \n",
    "    # 'Set' to make the counting operation faster\n",
    "    set_of_words = set(bag_of_words)\n",
    "    \n",
    "    print('Text mine articles...'),\n",
    "    \n",
    "    for j in range(0, len(Roche_df)):\n",
    "        \n",
    "        # Convert article body into a list of tokens\n",
    "        tokenized_article = tokenize(Roche_df['text'][j])\n",
    "        \n",
    "        # Count occurrences of the dictionary of words\n",
    "        occurrences = [word for word in tokenized_article\n",
    "                        if word in set_of_words]\n",
    "        \n",
    "        # Copy amount of occurrences found to the dataframe\n",
    "        amount = len(occurrences)\n",
    "        Roche_df['num_occurr_'+alignment][j] = amount\n",
    "        \n",
    "    # Compute frequency of occurrence found in each article dividing\n",
    "    # the amount of words counted as occurrences by the amount of words in the article\n",
    "    # UBS_df['freq_occurr_'+alignment] = UBS_df['num_occurr_'+alignment]/UBS_df['word_count']   \n",
    "   \n",
    "    print('Done!')\n",
    " \n",
    "    return Roche_df"
   ]
  },
  {
   "cell_type": "code",
   "execution_count": 47,
   "metadata": {},
   "outputs": [
    {
     "name": "stdout",
     "output_type": "stream",
     "text": [
      "Text mine articles...\n"
     ]
    },
    {
     "name": "stderr",
     "output_type": "stream",
     "text": [
      "/Users/Jannick/anaconda3/lib/python3.6/site-packages/ipykernel_launcher.py:23: SettingWithCopyWarning: \n",
      "A value is trying to be set on a copy of a slice from a DataFrame\n",
      "\n",
      "See the caveats in the documentation: http://pandas.pydata.org/pandas-docs/stable/indexing.html#indexing-view-versus-copy\n"
     ]
    },
    {
     "name": "stdout",
     "output_type": "stream",
     "text": [
      "Done!\n",
      "Text mine articles...\n",
      "Done!\n",
      "Text mine articles...\n",
      "Done!\n",
      "Text mine articles...\n",
      "Done!\n"
     ]
    }
   ],
   "source": [
    "# Text mine all articles for each sentiment (positive, negative, litigious, uncertain)\n",
    "Roche_df = text_mine_articles(Roche_df, pos,'pos')\n",
    "Roche_df = text_mine_articles(Roche_df, neg,'neg')\n",
    "Roche_df = text_mine_articles(Roche_df, lit,'lit')\n",
    "Roche_df = text_mine_articles(Roche_df, unc,'unc')"
   ]
  },
  {
   "cell_type": "markdown",
   "metadata": {},
   "source": [
    "### Sentiment Score"
   ]
  },
  {
   "cell_type": "code",
   "execution_count": 48,
   "metadata": {},
   "outputs": [],
   "source": [
    "## Sentiment Score Roche\n",
    "# The following function provides a simple function to create a sentiment score\n",
    "Roche_df['sentiment_score'] = Roche_df['num_occurr_pos'] - Roche_df['num_occurr_neg']"
   ]
  },
  {
   "cell_type": "markdown",
   "metadata": {},
   "source": [
    "#### Daily Average Score"
   ]
  },
  {
   "cell_type": "code",
   "execution_count": 49,
   "metadata": {},
   "outputs": [
    {
     "data": {
      "text/html": [
       "<div>\n",
       "<table border=\"1\" class=\"dataframe\">\n",
       "  <thead>\n",
       "    <tr style=\"text-align: right;\">\n",
       "      <th></th>\n",
       "      <th>date</th>\n",
       "      <th>sentiment_score</th>\n",
       "      <th>watson_sentiment_score</th>\n",
       "      <th>polarity</th>\n",
       "      <th>subjectivity</th>\n",
       "    </tr>\n",
       "  </thead>\n",
       "  <tbody>\n",
       "    <tr>\n",
       "      <th>0</th>\n",
       "      <td>2018-02-28T00:00:00Z</td>\n",
       "      <td>0</td>\n",
       "      <td>NaN</td>\n",
       "      <td>0.128571</td>\n",
       "      <td>0.432143</td>\n",
       "    </tr>\n",
       "    <tr>\n",
       "      <th>1</th>\n",
       "      <td>2018-02-28T00:00:00Z</td>\n",
       "      <td>0</td>\n",
       "      <td>NaN</td>\n",
       "      <td>0.128571</td>\n",
       "      <td>0.432143</td>\n",
       "    </tr>\n",
       "    <tr>\n",
       "      <th>2</th>\n",
       "      <td>2018-03-04T06:10:00Z</td>\n",
       "      <td>-2</td>\n",
       "      <td>0.825222</td>\n",
       "      <td>-0.036458</td>\n",
       "      <td>0.223958</td>\n",
       "    </tr>\n",
       "    <tr>\n",
       "      <th>3</th>\n",
       "      <td>2018-03-04T07:52:00Z</td>\n",
       "      <td>-3</td>\n",
       "      <td>0.755137</td>\n",
       "      <td>-0.020833</td>\n",
       "      <td>0.162500</td>\n",
       "    </tr>\n",
       "    <tr>\n",
       "      <th>4</th>\n",
       "      <td>2018-03-04T07:52:00Z</td>\n",
       "      <td>-3</td>\n",
       "      <td>0.525230</td>\n",
       "      <td>-0.020833</td>\n",
       "      <td>0.162500</td>\n",
       "    </tr>\n",
       "  </tbody>\n",
       "</table>\n",
       "</div>"
      ],
      "text/plain": [
       "                   date  sentiment_score  watson_sentiment_score  polarity  \\\n",
       "0  2018-02-28T00:00:00Z                0                     NaN  0.128571   \n",
       "1  2018-02-28T00:00:00Z                0                     NaN  0.128571   \n",
       "2  2018-03-04T06:10:00Z               -2                0.825222 -0.036458   \n",
       "3  2018-03-04T07:52:00Z               -3                0.755137 -0.020833   \n",
       "4  2018-03-04T07:52:00Z               -3                0.525230 -0.020833   \n",
       "\n",
       "   subjectivity  \n",
       "0      0.432143  \n",
       "1      0.432143  \n",
       "2      0.223958  \n",
       "3      0.162500  \n",
       "4      0.162500  "
      ]
     },
     "execution_count": 49,
     "metadata": {},
     "output_type": "execute_result"
    }
   ],
   "source": [
    "Roche_avg_df = pd.read_excel('Sentiment_Score_Roche.xlsx')\n",
    "Roche_avg_df.head()"
   ]
  },
  {
   "cell_type": "code",
   "execution_count": 50,
   "metadata": {},
   "outputs": [],
   "source": [
    "# Transform date into datetime\n",
    "Roche_avg_df['datetime'] = pd.to_datetime(Roche_avg_df['date'])"
   ]
  },
  {
   "cell_type": "code",
   "execution_count": 51,
   "metadata": {},
   "outputs": [],
   "source": [
    "# Create .dt.date format\n",
    "Roche_avg_df['date'] = Roche_avg_df['datetime'].dt.date"
   ]
  },
  {
   "cell_type": "code",
   "execution_count": 52,
   "metadata": {},
   "outputs": [
    {
     "name": "stderr",
     "output_type": "stream",
     "text": [
      "/Users/Jannick/anaconda3/lib/python3.6/site-packages/ipykernel_launcher.py:13: RuntimeWarning: '<' not supported between instances of 'str' and 'int', sort order is undefined for incomparable objects\n",
      "  del sys.path[0]\n"
     ]
    }
   ],
   "source": [
    "# Creates a function that computes the mean value for each day \n",
    "unique_dates = Roche_avg_df['date'].unique()\n",
    "Roche_means_df = pd.DataFrame(unique_dates)\n",
    "\n",
    "for date in unique_dates:\n",
    "    same_date = Roche_avg_df.loc[Roche_avg_df['date'] == date]\n",
    "    \n",
    "    sentiment_mean = same_date['sentiment_score'].mean()\n",
    "    watson_mean = same_date['watson_sentiment_score'].mean()\n",
    "    polarity_mean = same_date['polarity'].mean()\n",
    "\n",
    "    Roche_means_df = Roche_means_df.append({'sentiment': sentiment_mean, 'watson': watson_mean, \n",
    "                                        'polarity': polarity_mean}, ignore_index=True)"
   ]
  },
  {
   "cell_type": "code",
   "execution_count": 53,
   "metadata": {},
   "outputs": [],
   "source": [
    "# Create a Pandas Excel writer using XlsxWriter as the engine.\n",
    "writer = pd.ExcelWriter('Roche_means_df.xlsx', engine='xlsxwriter')\n",
    "\n",
    "# Convert the dataframe to an XlsxWriter Excel object.\n",
    "Roche_means_df.to_excel(writer, sheet_name='Sheet1')\n",
    "\n",
    "# Close the Pandas Excel writer and output the Excel file.\n",
    "writer.save()"
   ]
  },
  {
   "cell_type": "code",
   "execution_count": 54,
   "metadata": {},
   "outputs": [
    {
     "data": {
      "text/html": [
       "<div>\n",
       "<table border=\"1\" class=\"dataframe\">\n",
       "  <thead>\n",
       "    <tr style=\"text-align: right;\">\n",
       "      <th></th>\n",
       "      <th>date</th>\n",
       "      <th>polarity</th>\n",
       "      <th>sentiment</th>\n",
       "      <th>watson</th>\n",
       "      <th>datetime</th>\n",
       "    </tr>\n",
       "  </thead>\n",
       "  <tbody>\n",
       "    <tr>\n",
       "      <th>0</th>\n",
       "      <td>2018-02-28</td>\n",
       "      <td>0.128571</td>\n",
       "      <td>0.000000</td>\n",
       "      <td>NaN</td>\n",
       "      <td>2018-02-28</td>\n",
       "    </tr>\n",
       "    <tr>\n",
       "      <th>1</th>\n",
       "      <td>2018-03-04</td>\n",
       "      <td>-0.026042</td>\n",
       "      <td>-2.666667</td>\n",
       "      <td>0.701863</td>\n",
       "      <td>2018-03-04</td>\n",
       "    </tr>\n",
       "    <tr>\n",
       "      <th>2</th>\n",
       "      <td>2018-03-05</td>\n",
       "      <td>0.162500</td>\n",
       "      <td>0.000000</td>\n",
       "      <td>0.566140</td>\n",
       "      <td>2018-03-05</td>\n",
       "    </tr>\n",
       "    <tr>\n",
       "      <th>3</th>\n",
       "      <td>2018-03-06</td>\n",
       "      <td>0.108170</td>\n",
       "      <td>-0.714286</td>\n",
       "      <td>0.628010</td>\n",
       "      <td>2018-03-06</td>\n",
       "    </tr>\n",
       "    <tr>\n",
       "      <th>4</th>\n",
       "      <td>2018-03-07</td>\n",
       "      <td>0.098606</td>\n",
       "      <td>0.750000</td>\n",
       "      <td>0.409668</td>\n",
       "      <td>2018-03-07</td>\n",
       "    </tr>\n",
       "  </tbody>\n",
       "</table>\n",
       "</div>"
      ],
      "text/plain": [
       "        date  polarity  sentiment    watson   datetime\n",
       "0 2018-02-28  0.128571   0.000000       NaN 2018-02-28\n",
       "1 2018-03-04 -0.026042  -2.666667  0.701863 2018-03-04\n",
       "2 2018-03-05  0.162500   0.000000  0.566140 2018-03-05\n",
       "3 2018-03-06  0.108170  -0.714286  0.628010 2018-03-06\n",
       "4 2018-03-07  0.098606   0.750000  0.409668 2018-03-07"
      ]
     },
     "execution_count": 54,
     "metadata": {},
     "output_type": "execute_result"
    }
   ],
   "source": [
    "# Open adjusted UBS file containing all sentiment scores \n",
    "Roche_means_adjusted_df = pd.read_excel('Roche_means_adjusted_df.xlsx')\n",
    "\n",
    "# Transform date to datetime format\n",
    "Roche_means_adjusted_df['datetime'] = pd.to_datetime(Roche_means_adjusted_df['date'])\n",
    "\n",
    "# Display head of newly created dataframe\n",
    "Roche_means_adjusted_df.head()"
   ]
  },
  {
   "cell_type": "code",
   "execution_count": 55,
   "metadata": {},
   "outputs": [
    {
     "data": {
      "text/plain": [
       "<matplotlib.axes._subplots.AxesSubplot at 0x1a5252fac8>"
      ]
     },
     "execution_count": 55,
     "metadata": {},
     "output_type": "execute_result"
    },
    {
     "data": {
      "image/png": "[encoded data removed]",
      "text/plain": [
       "<Figure size 1440x360 with 1 Axes>"
      ]
     },
     "metadata": {},
     "output_type": "display_data"
    }
   ],
   "source": [
    "Roche_means_adjusted_df.plot(legend = True, label = 'Daily Sentiment Score', \n",
    "                                    figsize = (20, 5))"
   ]
  },
  {
   "cell_type": "code",
   "execution_count": 56,
   "metadata": {},
   "outputs": [
    {
     "data": {
      "image/png": "[encoded data removed]",
      "text/plain": [
       "<Figure size 1440x360 with 1 Axes>"
      ]
     },
     "metadata": {},
     "output_type": "display_data"
    }
   ],
   "source": [
    "# Plot for Watson Sentiment and Polarity\n",
    "plt.figure(figsize=(20,5))\n",
    "plt.plot(Roche_means_adjusted_df['datetime'],Roche_means_adjusted_df['polarity'])\n",
    "#plt.plot(Roche_means_adjusted_df['datetime'],Roche_means_adjusted_df['watson'])\n",
    "plt.show()"
   ]
  },
  {
   "cell_type": "markdown",
   "metadata": {},
   "source": [
    "#### Create Excel File"
   ]
  },
  {
   "cell_type": "code",
   "execution_count": 57,
   "metadata": {},
   "outputs": [
    {
     "name": "stderr",
     "output_type": "stream",
     "text": [
      "/Users/Jannick/anaconda3/lib/python3.6/site-packages/xlsxwriter/worksheet.py:830: UserWarning: Ignoring URL 'http://triblive.com/csp/mediapool/sites/dt.common.streams.StreamServer.cls?STREAMOID=PzYjCoa09D2h_AxxIKpqg8$daE2N3K4ZzOUsqbU5sYswC5y_sDLWSCAyuldTS73AWCsjLu883Ygn4B49Lvm9bPe2QeMKQdVeZmXF$9l$4uCZ8QDXhaHEp3rvzXRJFdy0KqPHLoMevcTLo3h8xh70Y6N_U_CryOsw6FTOdKL_jpQ-&amp;CONTENTTYPE=image/jpeg' with link or location/anchor > 255 characters since it exceeds Excel's limit for URLS\n",
      "  force_unicode(url))\n",
      "/Users/Jannick/anaconda3/lib/python3.6/site-packages/xlsxwriter/worksheet.py:830: UserWarning: Ignoring URL 'http://triblive.com/csp/mediapool/sites/dt.common.streams.StreamServer.cls?STREAMOID=PXTLvdTWHeBFMP$wTj7UL8$daE2N3K4ZzOUsqbU5sYtB4QgKQ1qd4ZuVcn8U1vllWCsjLu883Ygn4B49Lvm9bPe2QeMKQdVeZmXF$9l$4uCZ8QDXhaHEp3rvzXRJFdy0KqPHLoMevcTLo3h8xh70Y6N_U_CryOsw6FTOdKL_jpQ-&amp;CONTENTTYPE=image/jpeg' with link or location/anchor > 255 characters since it exceeds Excel's limit for URLS\n",
      "  force_unicode(url))\n",
      "/Users/Jannick/anaconda3/lib/python3.6/site-packages/xlsxwriter/worksheet.py:830: UserWarning: Ignoring URL 'http://triblive.com/csp/mediapool/sites/dt.common.streams.StreamServer.cls?STREAMOID=pazDU99R1SIW0Cu49BCUmM$daE2N3K4ZzOUsqbU5sYuZAgUfkitQFefIfN9z8gsnWCsjLu883Ygn4B49Lvm9bPe2QeMKQdVeZmXF$9l$4uCZ8QDXhaHEp3rvzXRJFdy0KqPHLoMevcTLo3h8xh70Y6N_U_CryOsw6FTOdKL_jpQ-&amp;CONTENTTYPE=image/jpeg' with link or location/anchor > 255 characters since it exceeds Excel's limit for URLS\n",
      "  force_unicode(url))\n",
      "/Users/Jannick/anaconda3/lib/python3.6/site-packages/xlsxwriter/worksheet.py:830: UserWarning: Ignoring URL 'https://www.openpr.com/news/1005401/Hepatitis-B-Virus-Treatment-HBV-Market-Comprehensive-Analysis-and-Future-Estimations-2022-with-Top-Companies-Merck-and-Co-Gilead-Sciences-Novartis-AG-GlaxoSmithKline-plc-F-Hoffmann-La-Roche-Bristol-Myers-Squibb-AbbVie-Inc.html' with link or location/anchor > 255 characters since it exceeds Excel's limit for URLS\n",
      "  force_unicode(url))\n",
      "/Users/Jannick/anaconda3/lib/python3.6/site-packages/xlsxwriter/worksheet.py:830: UserWarning: Ignoring URL 'https://www.openpr.com/news/1022020/Insulin-Delivery-Devices-Market-2018-Global-Driver-F-Hoffmann-La-Roche-Eli-Lilly-and-Company-Sanofi-Medtronic-Inc-Novo-Nordisk-A-S-and-Becton-Dickinson-and-Company-B-Braun-Melsungen-AG-Animas-Corporation-Ypsomed-Holdings-AG-and-Insulet-Co.html' with link or location/anchor > 255 characters since it exceeds Excel's limit for URLS\n",
      "  force_unicode(url))\n"
     ]
    }
   ],
   "source": [
    "# Create a Pandas Excel writer using XlsxWriter as the engine.\n",
    "writer = pd.ExcelWriter('Roche_df.xlsx', engine='xlsxwriter')\n",
    "\n",
    "# Convert the dataframe to an XlsxWriter Excel object.\n",
    "Roche_df.to_excel(writer, sheet_name='Sheet1')\n",
    "\n",
    "# Close the Pandas Excel writer and output the Excel file.\n",
    "writer.save()"
   ]
  },
  {
   "cell_type": "code",
   "execution_count": 58,
   "metadata": {},
   "outputs": [
    {
     "data": {
      "text/html": [
       "<div>\n",
       "<table border=\"1\" class=\"dataframe\">\n",
       "  <thead>\n",
       "    <tr style=\"text-align: right;\">\n",
       "      <th></th>\n",
       "      <th>author</th>\n",
       "      <th>country</th>\n",
       "      <th>crawl_date</th>\n",
       "      <th>enriched_text</th>\n",
       "      <th>enriched_title</th>\n",
       "      <th>external_links</th>\n",
       "      <th>extracted_metadata</th>\n",
       "      <th>forum_title</th>\n",
       "      <th>highlight</th>\n",
       "      <th>host</th>\n",
       "      <th>...</th>\n",
       "      <th>text</th>\n",
       "      <th>title</th>\n",
       "      <th>url</th>\n",
       "      <th>datetime</th>\n",
       "      <th>tokens</th>\n",
       "      <th>num_occurr_pos</th>\n",
       "      <th>num_occurr_neg</th>\n",
       "      <th>num_occurr_lit</th>\n",
       "      <th>num_occurr_unc</th>\n",
       "      <th>sentiment_score</th>\n",
       "    </tr>\n",
       "  </thead>\n",
       "  <tbody>\n",
       "    <tr>\n",
       "      <th>0</th>\n",
       "      <td>Latisha Jones</td>\n",
       "      <td>US</td>\n",
       "      <td>2018-04-05T05:34:32Z</td>\n",
       "      <td>{'entities': [{'count': 9, 'sentiment': {'scor...</td>\n",
       "      <td>{'entities': [{'count': 1, 'sentiment': {'scor...</td>\n",
       "      <td>NaN</td>\n",
       "      <td>{'sha1': 'd2e730fe19a8eb7d9549e40a1474d18bc183...</td>\n",
       "      <td>Daily Political</td>\n",
       "      <td>{'enriched_text.semantic_roles.object.text': [...</td>\n",
       "      <td>dailypolitical.com</td>\n",
       "      <td>...</td>\n",
       "      <td>Tweet Roche (VTX:ROG) ‘s stock had its “buy” r...</td>\n",
       "      <td>Roche (ROG) Given “Buy” Rating at JPMorgan Chase</td>\n",
       "      <td>https://www.dailypolitical.com/2018/04/04/roch...</td>\n",
       "      <td>2018-04-05 05:16:00</td>\n",
       "      <td>[tweet, roch, vtx, rog, stock, buy, rate, reis...</td>\n",
       "      <td>0</td>\n",
       "      <td>1</td>\n",
       "      <td>1</td>\n",
       "      <td>0</td>\n",
       "      <td>-1</td>\n",
       "    </tr>\n",
       "    <tr>\n",
       "      <th>1</th>\n",
       "      <td>NaN</td>\n",
       "      <td>US</td>\n",
       "      <td>2018-04-19T05:38:01Z</td>\n",
       "      <td>{'entities': [{'count': 1, 'sentiment': {'scor...</td>\n",
       "      <td>{'entities': [{'count': 1, 'sentiment': {'scor...</td>\n",
       "      <td>NaN</td>\n",
       "      <td>{'sha1': '54e59198dba7b2bc9f0e538b35978326508f...</td>\n",
       "      <td>NaN</td>\n",
       "      <td>{'enriched_text.semantic_roles.object.text': [...</td>\n",
       "      <td>dc101.iheart.com</td>\n",
       "      <td>...</td>\n",
       "      <td>Sphere Of Roche: Does Roche Shower Enough? pos...</td>\n",
       "      <td>Sphere Of Roche: Does Roche Shower Enough? | R...</td>\n",
       "      <td>https://dc101.iheart.com/featured/roche/conten...</td>\n",
       "      <td>2018-04-18 00:00:00</td>\n",
       "      <td>[sphere, roch, roch, shower, enough, post, roc...</td>\n",
       "      <td>1</td>\n",
       "      <td>2</td>\n",
       "      <td>0</td>\n",
       "      <td>0</td>\n",
       "      <td>-1</td>\n",
       "    </tr>\n",
       "    <tr>\n",
       "      <th>2</th>\n",
       "      <td>Joe Pappalardo</td>\n",
       "      <td>US</td>\n",
       "      <td>2018-04-05T05:09:59Z</td>\n",
       "      <td>{'entities': [{'count': 2, 'sentiment': {'scor...</td>\n",
       "      <td>{'entities': [{'count': 1, 'sentiment': {'scor...</td>\n",
       "      <td>NaN</td>\n",
       "      <td>{'sha1': '11c9111b19f05833f739390db5ab499c2a77...</td>\n",
       "      <td>Hillsdale Collegian</td>\n",
       "      <td>{'enriched_text.semantic_roles.object.text': [...</td>\n",
       "      <td>hillsdalecollegian.com</td>\n",
       "      <td>...</td>\n",
       "      <td>Roche charges $5 for parking Roche charges $5 ...</td>\n",
       "      <td>Roche charges $5 for parking</td>\n",
       "      <td>http://hillsdalecollegian.com/2018/04/roche-ch...</td>\n",
       "      <td>2018-04-04 13:00:00</td>\n",
       "      <td>[roch, charg, park, roch, charg, park, share, ...</td>\n",
       "      <td>0</td>\n",
       "      <td>0</td>\n",
       "      <td>0</td>\n",
       "      <td>1</td>\n",
       "      <td>0</td>\n",
       "    </tr>\n",
       "    <tr>\n",
       "      <th>3</th>\n",
       "      <td>NaN</td>\n",
       "      <td>US</td>\n",
       "      <td>2018-03-08T12:20:13Z</td>\n",
       "      <td>{'entities': [{'count': 2, 'sentiment': {'scor...</td>\n",
       "      <td>{'entities': [{'count': 1, 'sentiment': {'scor...</td>\n",
       "      <td>NaN</td>\n",
       "      <td>{'sha1': '1451ba2ff7b64fa877c0f0a72d009d8ec952...</td>\n",
       "      <td>NewsDump.com, US News, Headlines, Latest USA N...</td>\n",
       "      <td>{'enriched_text.relations.arguments.entities.t...</td>\n",
       "      <td>newsdump.com</td>\n",
       "      <td>...</td>\n",
       "      <td>Published By: Reuters - Health - Today ZURICH ...</td>\n",
       "      <td>Roche names Pao as Swiss R&amp;D head after Reed e...</td>\n",
       "      <td>http://www.newsdump.com/article/roche-names-pa...</td>\n",
       "      <td>2018-03-08 11:40:00</td>\n",
       "      <td>[publish, reuter, health, today, zurich, reute...</td>\n",
       "      <td>0</td>\n",
       "      <td>0</td>\n",
       "      <td>0</td>\n",
       "      <td>0</td>\n",
       "      <td>0</td>\n",
       "    </tr>\n",
       "    <tr>\n",
       "      <th>4</th>\n",
       "      <td>Caroline Horne</td>\n",
       "      <td>US</td>\n",
       "      <td>2018-05-01T07:59:45Z</td>\n",
       "      <td>{'entities': [{'count': 8, 'sentiment': {'scor...</td>\n",
       "      <td>{'entities': [{'count': 1, 'sentiment': {'scor...</td>\n",
       "      <td>[https://www.marketbeat.com/stocks/VTX/ROG/, h...</td>\n",
       "      <td>{'sha1': 'b7da7697fe180ee46a49467b12254bb31a54...</td>\n",
       "      <td>The Lincolnian Online</td>\n",
       "      <td>{'enriched_text.semantic_roles.object.text': [...</td>\n",
       "      <td>thelincolnianonline.com</td>\n",
       "      <td>...</td>\n",
       "      <td>JPMorgan Chase Reaffirms “Buy” Rating for Roch...</td>\n",
       "      <td>JPMorgan Chase Reaffirms “Buy” Rating for Roch...</td>\n",
       "      <td>https://www.thelincolnianonline.com/2018/05/01...</td>\n",
       "      <td>2018-05-01 09:54:00</td>\n",
       "      <td>[jpmorgan, chase, reaffirm, buy, rate, roch, r...</td>\n",
       "      <td>0</td>\n",
       "      <td>2</td>\n",
       "      <td>1</td>\n",
       "      <td>1</td>\n",
       "      <td>-2</td>\n",
       "    </tr>\n",
       "  </tbody>\n",
       "</table>\n",
       "<p>5 rows × 26 columns</p>\n",
       "</div>"
      ],
      "text/plain": [
       "           author country            crawl_date  \\\n",
       "0   Latisha Jones      US  2018-04-05T05:34:32Z   \n",
       "1             NaN      US  2018-04-19T05:38:01Z   \n",
       "2  Joe Pappalardo      US  2018-04-05T05:09:59Z   \n",
       "3             NaN      US  2018-03-08T12:20:13Z   \n",
       "4  Caroline Horne      US  2018-05-01T07:59:45Z   \n",
       "\n",
       "                                       enriched_text  \\\n",
       "0  {'entities': [{'count': 9, 'sentiment': {'scor...   \n",
       "1  {'entities': [{'count': 1, 'sentiment': {'scor...   \n",
       "2  {'entities': [{'count': 2, 'sentiment': {'scor...   \n",
       "3  {'entities': [{'count': 2, 'sentiment': {'scor...   \n",
       "4  {'entities': [{'count': 8, 'sentiment': {'scor...   \n",
       "\n",
       "                                      enriched_title  \\\n",
       "0  {'entities': [{'count': 1, 'sentiment': {'scor...   \n",
       "1  {'entities': [{'count': 1, 'sentiment': {'scor...   \n",
       "2  {'entities': [{'count': 1, 'sentiment': {'scor...   \n",
       "3  {'entities': [{'count': 1, 'sentiment': {'scor...   \n",
       "4  {'entities': [{'count': 1, 'sentiment': {'scor...   \n",
       "\n",
       "                                      external_links  \\\n",
       "0                                                NaN   \n",
       "1                                                NaN   \n",
       "2                                                NaN   \n",
       "3                                                NaN   \n",
       "4  [https://www.marketbeat.com/stocks/VTX/ROG/, h...   \n",
       "\n",
       "                                  extracted_metadata  \\\n",
       "0  {'sha1': 'd2e730fe19a8eb7d9549e40a1474d18bc183...   \n",
       "1  {'sha1': '54e59198dba7b2bc9f0e538b35978326508f...   \n",
       "2  {'sha1': '11c9111b19f05833f739390db5ab499c2a77...   \n",
       "3  {'sha1': '1451ba2ff7b64fa877c0f0a72d009d8ec952...   \n",
       "4  {'sha1': 'b7da7697fe180ee46a49467b12254bb31a54...   \n",
       "\n",
       "                                         forum_title  \\\n",
       "0                                    Daily Political   \n",
       "1                                                NaN   \n",
       "2                                Hillsdale Collegian   \n",
       "3  NewsDump.com, US News, Headlines, Latest USA N...   \n",
       "4                              The Lincolnian Online   \n",
       "\n",
       "                                           highlight                     host  \\\n",
       "0  {'enriched_text.semantic_roles.object.text': [...       dailypolitical.com   \n",
       "1  {'enriched_text.semantic_roles.object.text': [...         dc101.iheart.com   \n",
       "2  {'enriched_text.semantic_roles.object.text': [...   hillsdalecollegian.com   \n",
       "3  {'enriched_text.relations.arguments.entities.t...             newsdump.com   \n",
       "4  {'enriched_text.semantic_roles.object.text': [...  thelincolnianonline.com   \n",
       "\n",
       "        ...                                                     text  \\\n",
       "0       ...        Tweet Roche (VTX:ROG) ‘s stock had its “buy” r...   \n",
       "1       ...        Sphere Of Roche: Does Roche Shower Enough? pos...   \n",
       "2       ...        Roche charges $5 for parking Roche charges $5 ...   \n",
       "3       ...        Published By: Reuters - Health - Today ZURICH ...   \n",
       "4       ...        JPMorgan Chase Reaffirms “Buy” Rating for Roch...   \n",
       "\n",
       "                                               title  \\\n",
       "0   Roche (ROG) Given “Buy” Rating at JPMorgan Chase   \n",
       "1  Sphere Of Roche: Does Roche Shower Enough? | R...   \n",
       "2                       Roche charges $5 for parking   \n",
       "3  Roche names Pao as Swiss R&D head after Reed e...   \n",
       "4  JPMorgan Chase Reaffirms “Buy” Rating for Roch...   \n",
       "\n",
       "                                                 url            datetime  \\\n",
       "0  https://www.dailypolitical.com/2018/04/04/roch... 2018-04-05 05:16:00   \n",
       "1  https://dc101.iheart.com/featured/roche/conten... 2018-04-18 00:00:00   \n",
       "2  http://hillsdalecollegian.com/2018/04/roche-ch... 2018-04-04 13:00:00   \n",
       "3  http://www.newsdump.com/article/roche-names-pa... 2018-03-08 11:40:00   \n",
       "4  https://www.thelincolnianonline.com/2018/05/01... 2018-05-01 09:54:00   \n",
       "\n",
       "                                              tokens num_occurr_pos  \\\n",
       "0  [tweet, roch, vtx, rog, stock, buy, rate, reis...              0   \n",
       "1  [sphere, roch, roch, shower, enough, post, roc...              1   \n",
       "2  [roch, charg, park, roch, charg, park, share, ...              0   \n",
       "3  [publish, reuter, health, today, zurich, reute...              0   \n",
       "4  [jpmorgan, chase, reaffirm, buy, rate, roch, r...              0   \n",
       "\n",
       "  num_occurr_neg num_occurr_lit num_occurr_unc sentiment_score  \n",
       "0              1              1              0              -1  \n",
       "1              2              0              0              -1  \n",
       "2              0              0              1               0  \n",
       "3              0              0              0               0  \n",
       "4              2              1              1              -2  \n",
       "\n",
       "[5 rows x 26 columns]"
      ]
     },
     "execution_count": 58,
     "metadata": {},
     "output_type": "execute_result"
    }
   ],
   "source": [
    "Roche_df.head()"
   ]
  },
  {
   "cell_type": "markdown",
   "metadata": {},
   "source": [
    "### Novartis: Apply Text Mining Function"
   ]
  },
  {
   "cell_type": "code",
   "execution_count": 59,
   "metadata": {},
   "outputs": [],
   "source": [
    "# Text mine function for Novartis\n",
    "def text_mine_articles(Novartis_df, bag_of_words,alignment):\n",
    "    \n",
    "    bag_of_words = tokenize(bag_of_words)\n",
    "    Novartis_df['num_occurr_'+alignment] = 0\n",
    "    \n",
    "    # 'Set' to make the counting operation faster\n",
    "    set_of_words = set(bag_of_words)\n",
    "    \n",
    "    print('Text mine articles...'),\n",
    "    \n",
    "    for j in range(0, len(Novartis_df)):\n",
    "        \n",
    "        # Convert article body into a list of tokens\n",
    "        tokenized_article = tokenize(Novartis_df['text'][j])\n",
    "        \n",
    "        # Count occurrences of the dictionary of words\n",
    "        occurrences = [word for word in tokenized_article\n",
    "                        if word in set_of_words]\n",
    "        \n",
    "        # Copy amount of occurrences found to the dataframe\n",
    "        amount = len(occurrences)\n",
    "        Novartis_df['num_occurr_'+alignment][j] = amount\n",
    "        \n",
    "    # Compute frequency of occurrence found in each article dividing\n",
    "    # the amount of words counted as occurrences by the amount of words in the article\n",
    "    # UBS_df['freq_occurr_'+alignment] = UBS_df['num_occurr_'+alignment]/UBS_df['word_count']   \n",
    "   \n",
    "    print('Done!')\n",
    " \n",
    "    return Novartis_df"
   ]
  },
  {
   "cell_type": "code",
   "execution_count": 60,
   "metadata": {},
   "outputs": [
    {
     "name": "stdout",
     "output_type": "stream",
     "text": [
      "Text mine articles...\n"
     ]
    },
    {
     "name": "stderr",
     "output_type": "stream",
     "text": [
      "/Users/Jannick/anaconda3/lib/python3.6/site-packages/ipykernel_launcher.py:23: SettingWithCopyWarning: \n",
      "A value is trying to be set on a copy of a slice from a DataFrame\n",
      "\n",
      "See the caveats in the documentation: http://pandas.pydata.org/pandas-docs/stable/indexing.html#indexing-view-versus-copy\n"
     ]
    },
    {
     "name": "stdout",
     "output_type": "stream",
     "text": [
      "Done!\n",
      "Text mine articles...\n",
      "Done!\n",
      "Text mine articles...\n",
      "Done!\n",
      "Text mine articles...\n",
      "Done!\n"
     ]
    }
   ],
   "source": [
    "# Text mine all articles for each sentiment (positive, negative, litigious, uncertain)\n",
    "Novartis_df = text_mine_articles(Novartis_df, pos,'pos')\n",
    "Novartis_df = text_mine_articles(Novartis_df, neg,'neg')\n",
    "Novartis_df = text_mine_articles(Novartis_df, lit,'lit')\n",
    "Novartis_df = text_mine_articles(Novartis_df, unc,'unc')"
   ]
  },
  {
   "cell_type": "markdown",
   "metadata": {},
   "source": [
    "### Sentiment Score"
   ]
  },
  {
   "cell_type": "code",
   "execution_count": 61,
   "metadata": {},
   "outputs": [],
   "source": [
    "## Sentiment Score Novartis\n",
    "# The following function provides a simple function to create a sentiment score\n",
    "Novartis_df['sentiment_score'] = Novartis_df['num_occurr_pos'] - Novartis_df['num_occurr_neg']"
   ]
  },
  {
   "cell_type": "markdown",
   "metadata": {},
   "source": [
    "#### Daily Average Score"
   ]
  },
  {
   "cell_type": "code",
   "execution_count": 62,
   "metadata": {},
   "outputs": [
    {
     "data": {
      "text/html": [
       "<div>\n",
       "<table border=\"1\" class=\"dataframe\">\n",
       "  <thead>\n",
       "    <tr style=\"text-align: right;\">\n",
       "      <th></th>\n",
       "      <th>publication_date</th>\n",
       "      <th>sentiment_score</th>\n",
       "      <th>watson_sentiment_score</th>\n",
       "      <th>polarity</th>\n",
       "      <th>subjectivity</th>\n",
       "    </tr>\n",
       "  </thead>\n",
       "  <tbody>\n",
       "    <tr>\n",
       "      <th>0</th>\n",
       "      <td>2018-03-03T13:05:00Z</td>\n",
       "      <td>6</td>\n",
       "      <td>0.784469</td>\n",
       "      <td>0.227083</td>\n",
       "      <td>0.433333</td>\n",
       "    </tr>\n",
       "    <tr>\n",
       "      <th>1</th>\n",
       "      <td>2018-03-04T05:42:00Z</td>\n",
       "      <td>2</td>\n",
       "      <td>NaN</td>\n",
       "      <td>0.139336</td>\n",
       "      <td>0.248427</td>\n",
       "    </tr>\n",
       "    <tr>\n",
       "      <th>2</th>\n",
       "      <td>2018-03-05T00:00:00+01:00</td>\n",
       "      <td>-15</td>\n",
       "      <td>-0.432310</td>\n",
       "      <td>-0.028571</td>\n",
       "      <td>0.466667</td>\n",
       "    </tr>\n",
       "    <tr>\n",
       "      <th>3</th>\n",
       "      <td>2018-03-05T00:00:00+01:00</td>\n",
       "      <td>-15</td>\n",
       "      <td>-0.432310</td>\n",
       "      <td>-0.028571</td>\n",
       "      <td>0.466667</td>\n",
       "    </tr>\n",
       "    <tr>\n",
       "      <th>4</th>\n",
       "      <td>2018-03-05T05:00:00Z</td>\n",
       "      <td>4</td>\n",
       "      <td>0.788521</td>\n",
       "      <td>0.279167</td>\n",
       "      <td>0.356944</td>\n",
       "    </tr>\n",
       "  </tbody>\n",
       "</table>\n",
       "</div>"
      ],
      "text/plain": [
       "            publication_date  sentiment_score  watson_sentiment_score  \\\n",
       "0       2018-03-03T13:05:00Z                6                0.784469   \n",
       "1       2018-03-04T05:42:00Z                2                     NaN   \n",
       "2  2018-03-05T00:00:00+01:00              -15               -0.432310   \n",
       "3  2018-03-05T00:00:00+01:00              -15               -0.432310   \n",
       "4       2018-03-05T05:00:00Z                4                0.788521   \n",
       "\n",
       "   polarity  subjectivity  \n",
       "0  0.227083      0.433333  \n",
       "1  0.139336      0.248427  \n",
       "2 -0.028571      0.466667  \n",
       "3 -0.028571      0.466667  \n",
       "4  0.279167      0.356944  "
      ]
     },
     "execution_count": 62,
     "metadata": {},
     "output_type": "execute_result"
    }
   ],
   "source": [
    "Novartis_avg_df = pd.read_excel('Sentiment_Score_Novartis.xlsx')\n",
    "Novartis_avg_df.head()"
   ]
  },
  {
   "cell_type": "code",
   "execution_count": 63,
   "metadata": {},
   "outputs": [],
   "source": [
    "# Transform date into datetime\n",
    "Novartis_avg_df['datetime'] = pd.to_datetime(Novartis_avg_df['publication_date'])"
   ]
  },
  {
   "cell_type": "code",
   "execution_count": 64,
   "metadata": {},
   "outputs": [],
   "source": [
    "# Create .dt.date format\n",
    "Novartis_avg_df['date'] = Novartis_avg_df['datetime'].dt.date"
   ]
  },
  {
   "cell_type": "code",
   "execution_count": 65,
   "metadata": {},
   "outputs": [
    {
     "name": "stderr",
     "output_type": "stream",
     "text": [
      "/Users/Jannick/anaconda3/lib/python3.6/site-packages/ipykernel_launcher.py:13: RuntimeWarning: '<' not supported between instances of 'str' and 'int', sort order is undefined for incomparable objects\n",
      "  del sys.path[0]\n"
     ]
    }
   ],
   "source": [
    "# Creates a function that computes the mean value for each day \n",
    "unique_dates = Novartis_avg_df['date'].unique()\n",
    "Novartis_means_df = pd.DataFrame(unique_dates)\n",
    "\n",
    "for date in unique_dates:\n",
    "    same_date = Novartis_avg_df.loc[Novartis_avg_df['date'] == date]\n",
    "    \n",
    "    sentiment_mean = same_date['sentiment_score'].mean()\n",
    "    watson_mean = same_date['watson_sentiment_score'].mean()\n",
    "    polarity_mean = same_date['polarity'].mean()\n",
    "\n",
    "    Novartis_means_df = Novartis_means_df.append({'sentiment': sentiment_mean, 'watson': watson_mean, \n",
    "                                        'polarity': polarity_mean}, ignore_index=True)"
   ]
  },
  {
   "cell_type": "code",
   "execution_count": 66,
   "metadata": {},
   "outputs": [],
   "source": [
    "# Create a Pandas Excel writer using XlsxWriter as the engine.\n",
    "writer = pd.ExcelWriter('Novartis_means_df.xlsx', engine='xlsxwriter')\n",
    "\n",
    "# Convert the dataframe to an XlsxWriter Excel object.\n",
    "Novartis_means_df.to_excel(writer, sheet_name='Sheet1')\n",
    "\n",
    "# Close the Pandas Excel writer and output the Excel file.\n",
    "writer.save()"
   ]
  },
  {
   "cell_type": "code",
   "execution_count": 67,
   "metadata": {},
   "outputs": [
    {
     "data": {
      "text/html": [
       "<div>\n",
       "<table border=\"1\" class=\"dataframe\">\n",
       "  <thead>\n",
       "    <tr style=\"text-align: right;\">\n",
       "      <th></th>\n",
       "      <th>date</th>\n",
       "      <th>polarity</th>\n",
       "      <th>sentiment</th>\n",
       "      <th>watson</th>\n",
       "      <th>datetime</th>\n",
       "    </tr>\n",
       "  </thead>\n",
       "  <tbody>\n",
       "    <tr>\n",
       "      <th>0</th>\n",
       "      <td>2018-03-03</td>\n",
       "      <td>0.227083</td>\n",
       "      <td>6.000000</td>\n",
       "      <td>0.784469</td>\n",
       "      <td>2018-03-03</td>\n",
       "    </tr>\n",
       "    <tr>\n",
       "      <th>1</th>\n",
       "      <td>2018-03-04</td>\n",
       "      <td>0.027398</td>\n",
       "      <td>-9.333333</td>\n",
       "      <td>-0.432310</td>\n",
       "      <td>2018-03-04</td>\n",
       "    </tr>\n",
       "    <tr>\n",
       "      <th>2</th>\n",
       "      <td>2018-03-05</td>\n",
       "      <td>0.139860</td>\n",
       "      <td>2.750000</td>\n",
       "      <td>0.732827</td>\n",
       "      <td>2018-03-05</td>\n",
       "    </tr>\n",
       "    <tr>\n",
       "      <th>3</th>\n",
       "      <td>2018-03-06</td>\n",
       "      <td>-0.003123</td>\n",
       "      <td>-0.333333</td>\n",
       "      <td>0.163667</td>\n",
       "      <td>2018-03-06</td>\n",
       "    </tr>\n",
       "    <tr>\n",
       "      <th>4</th>\n",
       "      <td>2018-03-07</td>\n",
       "      <td>0.148205</td>\n",
       "      <td>4.375000</td>\n",
       "      <td>0.524228</td>\n",
       "      <td>2018-03-07</td>\n",
       "    </tr>\n",
       "  </tbody>\n",
       "</table>\n",
       "</div>"
      ],
      "text/plain": [
       "        date  polarity  sentiment    watson   datetime\n",
       "0 2018-03-03  0.227083   6.000000  0.784469 2018-03-03\n",
       "1 2018-03-04  0.027398  -9.333333 -0.432310 2018-03-04\n",
       "2 2018-03-05  0.139860   2.750000  0.732827 2018-03-05\n",
       "3 2018-03-06 -0.003123  -0.333333  0.163667 2018-03-06\n",
       "4 2018-03-07  0.148205   4.375000  0.524228 2018-03-07"
      ]
     },
     "execution_count": 67,
     "metadata": {},
     "output_type": "execute_result"
    }
   ],
   "source": [
    "# Open adjusted UBS file containing all sentiment scores \n",
    "Novartis_means_adjusted_df = pd.read_excel('Novartis_means__adjusted_df.xlsx')\n",
    "\n",
    "# Transform date to datetime format\n",
    "Novartis_means_adjusted_df['datetime'] = pd.to_datetime(Novartis_means_adjusted_df['date'])\n",
    "\n",
    "# Display head of newly created dataframe\n",
    "Novartis_means_adjusted_df.head()"
   ]
  },
  {
   "cell_type": "code",
   "execution_count": 68,
   "metadata": {},
   "outputs": [
    {
     "data": {
      "text/plain": [
       "<matplotlib.axes._subplots.AxesSubplot at 0x1a532102b0>"
      ]
     },
     "execution_count": 68,
     "metadata": {},
     "output_type": "execute_result"
    },
    {
     "data": {
      "image/png": "[encoded data removed]",
      "text/plain": [
       "<Figure size 1440x360 with 1 Axes>"
      ]
     },
     "metadata": {},
     "output_type": "display_data"
    }
   ],
   "source": [
    "Novartis_means_adjusted_df.plot(legend = True, label = 'Daily Sentiment Score', \n",
    "                                    figsize = (20, 5))"
   ]
  },
  {
   "cell_type": "code",
   "execution_count": 69,
   "metadata": {},
   "outputs": [
    {
     "data": {
      "image/png": "[encoded data removed]",
      "text/plain": [
       "<Figure size 1440x360 with 1 Axes>"
      ]
     },
     "metadata": {},
     "output_type": "display_data"
    }
   ],
   "source": [
    "# Plot for Watson Sentiment and Polarity\n",
    "plt.figure(figsize=(20,5))\n",
    "plt.plot(Novartis_means_adjusted_df['datetime'],Novartis_means_adjusted_df['polarity'])\n",
    "# plt.plot(Novartis_means_adjusted_df['datetime'],Novartis_means_adjusted_df['watson'])\n",
    "plt.show()"
   ]
  },
  {
   "cell_type": "markdown",
   "metadata": {},
   "source": [
    "#### Create Excel File"
   ]
  },
  {
   "cell_type": "code",
   "execution_count": 70,
   "metadata": {},
   "outputs": [
    {
     "name": "stderr",
     "output_type": "stream",
     "text": [
      "/Users/Jannick/anaconda3/lib/python3.6/site-packages/xlsxwriter/worksheet.py:830: UserWarning: Ignoring URL 'https://s.yimg.com/uu/api/res/1.2/pZvP6Mua6_1YH6zqqYhHZg--~B/aD01MzM7dz04MDA7c209MTthcHBpZD15dGFjaHlvbg--/http://globalfinance.zenfs.com/images/US_AHTTP_REUTERS_OLUSBUS_WRAPPER_H_LIVE_NEW/2018-04-09T051716Z_2_LYNXMPEE3808T_RTROPTP_3_SWISS-BUSINESS_original.jpg' with link or location/anchor > 255 characters since it exceeds Excel's limit for URLS\n",
      "  force_unicode(url))\n",
      "/Users/Jannick/anaconda3/lib/python3.6/site-packages/xlsxwriter/worksheet.py:830: UserWarning: Ignoring URL 'http://www.channelnewsasia.com/news/heal...h-10146240%20ZURICH:%20Swiss%20pharmaceutical%20giant%20Novartis%20on%20Tuesday%20(Apr%2017)announced%20US$100%20million%20of%20funding%20over%20the%20next%20five%20years%20for%20research%20into%20new%20treatments%20for%20malaria,%20a%20mosquito-borne%20disease%20with%20a%20devastating%20impact%20that%20killed%20445,000%20people%20in%202016.%3cbr/%3e%3cbr/%3eThere%20were%20some%20216%20million%20cases%20of%20...%20Quote' with link or location/anchor > 255 characters since it exceeds Excel's limit for URLS\n",
      "  force_unicode(url))\n",
      "/Users/Jannick/anaconda3/lib/python3.6/site-packages/xlsxwriter/worksheet.py:830: UserWarning: Ignoring URL 'https://www.openpr.com/news/1005401/Hepatitis-B-Virus-Treatment-HBV-Market-Comprehensive-Analysis-and-Future-Estimations-2022-with-Top-Companies-Merck-and-Co-Gilead-Sciences-Novartis-AG-GlaxoSmithKline-plc-F-Hoffmann-La-Roche-Bristol-Myers-Squibb-AbbVie-Inc.html' with link or location/anchor > 255 characters since it exceeds Excel's limit for URLS\n",
      "  force_unicode(url))\n",
      "/Users/Jannick/anaconda3/lib/python3.6/site-packages/xlsxwriter/worksheet.py:830: UserWarning: Ignoring URL 'https://www.openpr.com/news/981140/Seropositive-Rheumatoid-Arthritis-Drug-Market-2018-Major-Participants-Abbott-Laboratories-Johnson-Johnson-Novartis-AG-Pfizer-Inc-and-Eli-Lilly-and-Company-AbbVie-Inc-Bristol-Myers-Squibb-Company-Sanofi-Aventis-AstraZeneca.html' with link or location/anchor > 255 characters since it exceeds Excel's limit for URLS\n",
      "  force_unicode(url))\n"
     ]
    }
   ],
   "source": [
    "# Create a Pandas Excel writer using XlsxWriter as the engine.\n",
    "writer = pd.ExcelWriter('Novartis_df.xlsx', engine='xlsxwriter')\n",
    "\n",
    "# Convert the dataframe to an XlsxWriter Excel object.\n",
    "Novartis_df.to_excel(writer, sheet_name='Sheet1')\n",
    "\n",
    "# Close the Pandas Excel writer and output the Excel file.\n",
    "writer.save()"
   ]
  },
  {
   "cell_type": "code",
   "execution_count": 71,
   "metadata": {},
   "outputs": [
    {
     "data": {
      "text/html": [
       "<div>\n",
       "<table border=\"1\" class=\"dataframe\">\n",
       "  <thead>\n",
       "    <tr style=\"text-align: right;\">\n",
       "      <th></th>\n",
       "      <th>author</th>\n",
       "      <th>country</th>\n",
       "      <th>crawl_date</th>\n",
       "      <th>enriched_text</th>\n",
       "      <th>enriched_title</th>\n",
       "      <th>external_links</th>\n",
       "      <th>extracted_metadata</th>\n",
       "      <th>forum_title</th>\n",
       "      <th>highlight</th>\n",
       "      <th>host</th>\n",
       "      <th>...</th>\n",
       "      <th>text</th>\n",
       "      <th>title</th>\n",
       "      <th>url</th>\n",
       "      <th>datetime</th>\n",
       "      <th>tokens</th>\n",
       "      <th>num_occurr_pos</th>\n",
       "      <th>num_occurr_neg</th>\n",
       "      <th>num_occurr_lit</th>\n",
       "      <th>num_occurr_unc</th>\n",
       "      <th>sentiment_score</th>\n",
       "    </tr>\n",
       "  </thead>\n",
       "  <tbody>\n",
       "    <tr>\n",
       "      <th>0</th>\n",
       "      <td>NaN</td>\n",
       "      <td>US</td>\n",
       "      <td>2018-03-22T09:22:26Z</td>\n",
       "      <td>{'entities': [{'count': 3, 'sentiment': {'scor...</td>\n",
       "      <td>{'entities': [{'count': 1, 'sentiment': {'scor...</td>\n",
       "      <td>NaN</td>\n",
       "      <td>{'sha1': '05a21a8dd09f788b7ac1bbd0aa8db1bffd00...</td>\n",
       "      <td>NaN</td>\n",
       "      <td>{'enriched_text.semantic_roles.object.entities...</td>\n",
       "      <td>pharma.remmont.com</td>\n",
       "      <td>...</td>\n",
       "      <td>Posted On Mar 20 2018 by admin Reporting side ...</td>\n",
       "      <td>Report Side Effects, novartis pharmaceutical.#...</td>\n",
       "      <td>http://pharma.remmont.com/report-side-effects-...</td>\n",
       "      <td>2018-03-20 00:00:00</td>\n",
       "      <td>[post, mar, admin, report, side, effect, side,...</td>\n",
       "      <td>10</td>\n",
       "      <td>5</td>\n",
       "      <td>1</td>\n",
       "      <td>2</td>\n",
       "      <td>5</td>\n",
       "    </tr>\n",
       "    <tr>\n",
       "      <th>1</th>\n",
       "      <td>NaN</td>\n",
       "      <td>CH</td>\n",
       "      <td>2018-05-01T10:15:24Z</td>\n",
       "      <td>{'entities': [{'count': 17, 'sentiment': {'sco...</td>\n",
       "      <td>{'entities': [{'count': 1, 'sentiment': {'scor...</td>\n",
       "      <td>[http://investors.avexis.com/phoenix.zhtml?c=2...</td>\n",
       "      <td>{'sha1': 'b781074fdad68f34771ce2b64bbaf1ac1b28...</td>\n",
       "      <td>SIX Swiss Exchange | Equity issuer newsfeed</td>\n",
       "      <td>{'enriched_text.semantic_roles.object.entities...</td>\n",
       "      <td>six-swiss-exchange.com</td>\n",
       "      <td>...</td>\n",
       "      <td>01.05.2018 Novartis AG Novartis provides updat...</td>\n",
       "      <td>Novartis AG</td>\n",
       "      <td>http://www.six-swiss-exchange.com/issuers/serv...</td>\n",
       "      <td>2018-05-01 00:00:00</td>\n",
       "      <td>[novarti, novarti, provid, updat, propos, acqu...</td>\n",
       "      <td>2</td>\n",
       "      <td>2</td>\n",
       "      <td>3</td>\n",
       "      <td>3</td>\n",
       "      <td>0</td>\n",
       "    </tr>\n",
       "    <tr>\n",
       "      <th>2</th>\n",
       "      <td>Marc Bisbal</td>\n",
       "      <td>US</td>\n",
       "      <td>2018-03-12T08:29:34Z</td>\n",
       "      <td>{'entities': [{'count': 1, 'sentiment': {'scor...</td>\n",
       "      <td>{'entities': [{'count': 1, 'sentiment': {'scor...</td>\n",
       "      <td>NaN</td>\n",
       "      <td>{'sha1': '418b62ece773b7a26c1b261b3b93c6a703a7...</td>\n",
       "      <td>T - MarketWatch.com Topics</td>\n",
       "      <td>{'enriched_text.semantic_roles.object.text': [...</td>\n",
       "      <td>marketwatch.com</td>\n",
       "      <td>...</td>\n",
       "      <td>Novartis AG (NOVN.EB) said Monday that it appo...</td>\n",
       "      <td>Novartis president of operations to exit</td>\n",
       "      <td>http://www.marketwatch.com/story/novartis-pres...</td>\n",
       "      <td>2018-03-12 05:00:00</td>\n",
       "      <td>[novarti, novn.eb, said, monday, appoint, thre...</td>\n",
       "      <td>2</td>\n",
       "      <td>0</td>\n",
       "      <td>0</td>\n",
       "      <td>1</td>\n",
       "      <td>2</td>\n",
       "    </tr>\n",
       "    <tr>\n",
       "      <th>3</th>\n",
       "      <td>NaN</td>\n",
       "      <td>GB</td>\n",
       "      <td>2018-03-12T19:33:28Z</td>\n",
       "      <td>{'entities': [{'count': 18, 'sentiment': {'sco...</td>\n",
       "      <td>{'entities': [{'count': 1, 'sentiment': {'scor...</td>\n",
       "      <td>NaN</td>\n",
       "      <td>{'sha1': '7f90aa8438fb3ab19eeea72ad13f2750d545...</td>\n",
       "      <td>ukcitymedia new uk stock market news</td>\n",
       "      <td>{'enriched_text.semantic_roles.object.entities...</td>\n",
       "      <td>ukcitymedia.co.uk</td>\n",
       "      <td>...</td>\n",
       "      <td>&lt;p&gt;A uk stock market forum. User postings for ...</td>\n",
       "      <td>NOVARTIS FINANCE S.A. : Directorate change</td>\n",
       "      <td>http://www.ukcitymedia.co.uk/cms40/uk-stockmar...</td>\n",
       "      <td>2018-03-12 06:30:00</td>\n",
       "      <td>[stock, market, forum, user, post, ftse, aim, ...</td>\n",
       "      <td>1</td>\n",
       "      <td>1</td>\n",
       "      <td>0</td>\n",
       "      <td>1</td>\n",
       "      <td>0</td>\n",
       "    </tr>\n",
       "    <tr>\n",
       "      <th>4</th>\n",
       "      <td>ConverterNewsMachine</td>\n",
       "      <td>DE</td>\n",
       "      <td>2018-03-08T06:39:33Z</td>\n",
       "      <td>{'entities': [{'count': 2, 'sentiment': {'scor...</td>\n",
       "      <td>{'entities': [{'count': 1, 'sentiment': {'scor...</td>\n",
       "      <td>NaN</td>\n",
       "      <td>{'sha1': 'f5150340b45d635538c314e25e500284bc10...</td>\n",
       "      <td>Slitter, converting, labelling and hot melt news</td>\n",
       "      <td>{'enriched_text.relations.arguments.entities.t...</td>\n",
       "      <td>converternews.com</td>\n",
       "      <td>...</td>\n",
       "      <td>Home Novartis teams up with American company t...</td>\n",
       "      <td>Novartis teams up with American company to lau...</td>\n",
       "      <td>http://www.converternews.com/novartis-teams-up...</td>\n",
       "      <td>2018-03-07 17:35:00</td>\n",
       "      <td>[home, novarti, team, american, compani, launc...</td>\n",
       "      <td>1</td>\n",
       "      <td>0</td>\n",
       "      <td>0</td>\n",
       "      <td>0</td>\n",
       "      <td>1</td>\n",
       "    </tr>\n",
       "  </tbody>\n",
       "</table>\n",
       "<p>5 rows × 26 columns</p>\n",
       "</div>"
      ],
      "text/plain": [
       "                 author country            crawl_date  \\\n",
       "0                   NaN      US  2018-03-22T09:22:26Z   \n",
       "1                   NaN      CH  2018-05-01T10:15:24Z   \n",
       "2           Marc Bisbal      US  2018-03-12T08:29:34Z   \n",
       "3                   NaN      GB  2018-03-12T19:33:28Z   \n",
       "4  ConverterNewsMachine      DE  2018-03-08T06:39:33Z   \n",
       "\n",
       "                                       enriched_text  \\\n",
       "0  {'entities': [{'count': 3, 'sentiment': {'scor...   \n",
       "1  {'entities': [{'count': 17, 'sentiment': {'sco...   \n",
       "2  {'entities': [{'count': 1, 'sentiment': {'scor...   \n",
       "3  {'entities': [{'count': 18, 'sentiment': {'sco...   \n",
       "4  {'entities': [{'count': 2, 'sentiment': {'scor...   \n",
       "\n",
       "                                      enriched_title  \\\n",
       "0  {'entities': [{'count': 1, 'sentiment': {'scor...   \n",
       "1  {'entities': [{'count': 1, 'sentiment': {'scor...   \n",
       "2  {'entities': [{'count': 1, 'sentiment': {'scor...   \n",
       "3  {'entities': [{'count': 1, 'sentiment': {'scor...   \n",
       "4  {'entities': [{'count': 1, 'sentiment': {'scor...   \n",
       "\n",
       "                                      external_links  \\\n",
       "0                                                NaN   \n",
       "1  [http://investors.avexis.com/phoenix.zhtml?c=2...   \n",
       "2                                                NaN   \n",
       "3                                                NaN   \n",
       "4                                                NaN   \n",
       "\n",
       "                                  extracted_metadata  \\\n",
       "0  {'sha1': '05a21a8dd09f788b7ac1bbd0aa8db1bffd00...   \n",
       "1  {'sha1': 'b781074fdad68f34771ce2b64bbaf1ac1b28...   \n",
       "2  {'sha1': '418b62ece773b7a26c1b261b3b93c6a703a7...   \n",
       "3  {'sha1': '7f90aa8438fb3ab19eeea72ad13f2750d545...   \n",
       "4  {'sha1': 'f5150340b45d635538c314e25e500284bc10...   \n",
       "\n",
       "                                        forum_title  \\\n",
       "0                                               NaN   \n",
       "1       SIX Swiss Exchange | Equity issuer newsfeed   \n",
       "2                        T - MarketWatch.com Topics   \n",
       "3              ukcitymedia new uk stock market news   \n",
       "4  Slitter, converting, labelling and hot melt news   \n",
       "\n",
       "                                           highlight                    host  \\\n",
       "0  {'enriched_text.semantic_roles.object.entities...      pharma.remmont.com   \n",
       "1  {'enriched_text.semantic_roles.object.entities...  six-swiss-exchange.com   \n",
       "2  {'enriched_text.semantic_roles.object.text': [...         marketwatch.com   \n",
       "3  {'enriched_text.semantic_roles.object.entities...       ukcitymedia.co.uk   \n",
       "4  {'enriched_text.relations.arguments.entities.t...       converternews.com   \n",
       "\n",
       "        ...                                                     text  \\\n",
       "0       ...        Posted On Mar 20 2018 by admin Reporting side ...   \n",
       "1       ...        01.05.2018 Novartis AG Novartis provides updat...   \n",
       "2       ...        Novartis AG (NOVN.EB) said Monday that it appo...   \n",
       "3       ...        <p>A uk stock market forum. User postings for ...   \n",
       "4       ...        Home Novartis teams up with American company t...   \n",
       "\n",
       "                                               title  \\\n",
       "0  Report Side Effects, novartis pharmaceutical.#...   \n",
       "1                                        Novartis AG   \n",
       "2           Novartis president of operations to exit   \n",
       "3         NOVARTIS FINANCE S.A. : Directorate change   \n",
       "4  Novartis teams up with American company to lau...   \n",
       "\n",
       "                                                 url            datetime  \\\n",
       "0  http://pharma.remmont.com/report-side-effects-... 2018-03-20 00:00:00   \n",
       "1  http://www.six-swiss-exchange.com/issuers/serv... 2018-05-01 00:00:00   \n",
       "2  http://www.marketwatch.com/story/novartis-pres... 2018-03-12 05:00:00   \n",
       "3  http://www.ukcitymedia.co.uk/cms40/uk-stockmar... 2018-03-12 06:30:00   \n",
       "4  http://www.converternews.com/novartis-teams-up... 2018-03-07 17:35:00   \n",
       "\n",
       "                                              tokens num_occurr_pos  \\\n",
       "0  [post, mar, admin, report, side, effect, side,...             10   \n",
       "1  [novarti, novarti, provid, updat, propos, acqu...              2   \n",
       "2  [novarti, novn.eb, said, monday, appoint, thre...              2   \n",
       "3  [stock, market, forum, user, post, ftse, aim, ...              1   \n",
       "4  [home, novarti, team, american, compani, launc...              1   \n",
       "\n",
       "  num_occurr_neg num_occurr_lit num_occurr_unc sentiment_score  \n",
       "0              5              1              2               5  \n",
       "1              2              3              3               0  \n",
       "2              0              0              1               2  \n",
       "3              1              0              1               0  \n",
       "4              0              0              0               1  \n",
       "\n",
       "[5 rows x 26 columns]"
      ]
     },
     "execution_count": 71,
     "metadata": {},
     "output_type": "execute_result"
    }
   ],
   "source": [
    "Novartis_df.head()"
   ]
  },
  {
   "cell_type": "markdown",
   "metadata": {},
   "source": [
    "### ABB: Apply Text Mining Function"
   ]
  },
  {
   "cell_type": "code",
   "execution_count": 72,
   "metadata": {},
   "outputs": [],
   "source": [
    "# Text mine function for ABB\n",
    "def text_mine_articles(ABB_df, bag_of_words,alignment):\n",
    "    \n",
    "    bag_of_words = tokenize(bag_of_words)\n",
    "    ABB_df['num_occurr_'+alignment] = 0\n",
    "    \n",
    "    # 'Set' to make the counting operation faster\n",
    "    set_of_words = set(bag_of_words)\n",
    "    \n",
    "    print('Text mine articles...'),\n",
    "    \n",
    "    for j in range(0, len(ABB_df)):\n",
    "        \n",
    "        # Convert article body into a list of tokens\n",
    "        tokenized_article = tokenize(ABB_df['text'][j])\n",
    "        \n",
    "        # Count occurrences of the dictionary of words\n",
    "        occurrences = [word for word in tokenized_article\n",
    "                        if word in set_of_words]\n",
    "        \n",
    "        # Copy amount of occurrences found to the dataframe\n",
    "        amount = len(occurrences)\n",
    "        ABB_df['num_occurr_'+alignment][j] = amount\n",
    "        \n",
    "    # Compute frequency of occurrence found in each article dividing\n",
    "    # the amount of words counted as occurrences by the amount of words in the article\n",
    "    # UBS_df['freq_occurr_'+alignment] = UBS_df['num_occurr_'+alignment]/UBS_df['word_count']   \n",
    "   \n",
    "    print('Done!')\n",
    " \n",
    "    return ABB_df"
   ]
  },
  {
   "cell_type": "code",
   "execution_count": 73,
   "metadata": {},
   "outputs": [
    {
     "name": "stdout",
     "output_type": "stream",
     "text": [
      "Text mine articles...\n"
     ]
    },
    {
     "name": "stderr",
     "output_type": "stream",
     "text": [
      "/Users/Jannick/anaconda3/lib/python3.6/site-packages/ipykernel_launcher.py:23: SettingWithCopyWarning: \n",
      "A value is trying to be set on a copy of a slice from a DataFrame\n",
      "\n",
      "See the caveats in the documentation: http://pandas.pydata.org/pandas-docs/stable/indexing.html#indexing-view-versus-copy\n"
     ]
    },
    {
     "name": "stdout",
     "output_type": "stream",
     "text": [
      "Done!\n",
      "Text mine articles...\n",
      "Done!\n",
      "Text mine articles...\n",
      "Done!\n",
      "Text mine articles...\n",
      "Done!\n"
     ]
    }
   ],
   "source": [
    "# Text mine all articles for each sentiment (positive, negative, litigious, uncertain)\n",
    "ABB_df = text_mine_articles(Roche_df, pos,'pos')\n",
    "ABB_df = text_mine_articles(Roche_df, neg,'neg')\n",
    "ABB_df = text_mine_articles(Roche_df, lit,'lit')\n",
    "ABB_df = text_mine_articles(Roche_df, unc,'unc')"
   ]
  },
  {
   "cell_type": "markdown",
   "metadata": {},
   "source": [
    "### Sentiment Score"
   ]
  },
  {
   "cell_type": "code",
   "execution_count": 74,
   "metadata": {},
   "outputs": [],
   "source": [
    "## Sentiment Score ABB\n",
    "# The following function provides a simple function to create a sentiment score\n",
    "ABB_df['sentiment_score'] = ABB_df['num_occurr_pos'] - ABB_df['num_occurr_neg']"
   ]
  },
  {
   "cell_type": "markdown",
   "metadata": {},
   "source": [
    "#### Daily Average Score"
   ]
  },
  {
   "cell_type": "code",
   "execution_count": 75,
   "metadata": {},
   "outputs": [
    {
     "data": {
      "text/html": [
       "<div>\n",
       "<table border=\"1\" class=\"dataframe\">\n",
       "  <thead>\n",
       "    <tr style=\"text-align: right;\">\n",
       "      <th></th>\n",
       "      <th>publication_date</th>\n",
       "      <th>sentiment_score</th>\n",
       "      <th>watson_sentiment_score</th>\n",
       "      <th>polarity</th>\n",
       "      <th>subjectivity</th>\n",
       "    </tr>\n",
       "  </thead>\n",
       "  <tbody>\n",
       "    <tr>\n",
       "      <th>0</th>\n",
       "      <td>2018-02-28T00:00:00Z</td>\n",
       "      <td>0</td>\n",
       "      <td>NaN</td>\n",
       "      <td>0.128571</td>\n",
       "      <td>0.432143</td>\n",
       "    </tr>\n",
       "    <tr>\n",
       "      <th>1</th>\n",
       "      <td>2018-02-28T00:00:00Z</td>\n",
       "      <td>0</td>\n",
       "      <td>NaN</td>\n",
       "      <td>0.128571</td>\n",
       "      <td>0.432143</td>\n",
       "    </tr>\n",
       "    <tr>\n",
       "      <th>2</th>\n",
       "      <td>2018-03-04T06:10:00Z</td>\n",
       "      <td>-2</td>\n",
       "      <td>0.825222</td>\n",
       "      <td>-0.036458</td>\n",
       "      <td>0.223958</td>\n",
       "    </tr>\n",
       "    <tr>\n",
       "      <th>3</th>\n",
       "      <td>2018-03-04T07:52:00Z</td>\n",
       "      <td>-3</td>\n",
       "      <td>0.755137</td>\n",
       "      <td>-0.020833</td>\n",
       "      <td>0.162500</td>\n",
       "    </tr>\n",
       "    <tr>\n",
       "      <th>4</th>\n",
       "      <td>2018-03-04T07:52:00Z</td>\n",
       "      <td>-3</td>\n",
       "      <td>0.525230</td>\n",
       "      <td>-0.020833</td>\n",
       "      <td>0.162500</td>\n",
       "    </tr>\n",
       "  </tbody>\n",
       "</table>\n",
       "</div>"
      ],
      "text/plain": [
       "       publication_date  sentiment_score  watson_sentiment_score  polarity  \\\n",
       "0  2018-02-28T00:00:00Z                0                     NaN  0.128571   \n",
       "1  2018-02-28T00:00:00Z                0                     NaN  0.128571   \n",
       "2  2018-03-04T06:10:00Z               -2                0.825222 -0.036458   \n",
       "3  2018-03-04T07:52:00Z               -3                0.755137 -0.020833   \n",
       "4  2018-03-04T07:52:00Z               -3                0.525230 -0.020833   \n",
       "\n",
       "   subjectivity  \n",
       "0      0.432143  \n",
       "1      0.432143  \n",
       "2      0.223958  \n",
       "3      0.162500  \n",
       "4      0.162500  "
      ]
     },
     "execution_count": 75,
     "metadata": {},
     "output_type": "execute_result"
    }
   ],
   "source": [
    "ABB_avg_df = pd.read_excel('Sentiment_Score_ABB.xlsx')\n",
    "ABB_avg_df.head()"
   ]
  },
  {
   "cell_type": "code",
   "execution_count": 76,
   "metadata": {},
   "outputs": [],
   "source": [
    "# Transform date into datetime\n",
    "ABB_avg_df['datetime'] = pd.to_datetime(ABB_avg_df['publication_date'])"
   ]
  },
  {
   "cell_type": "code",
   "execution_count": 77,
   "metadata": {},
   "outputs": [],
   "source": [
    "# Create .dt.date format\n",
    "ABB_avg_df['date'] = ABB_avg_df['datetime'].dt.date"
   ]
  },
  {
   "cell_type": "code",
   "execution_count": 78,
   "metadata": {},
   "outputs": [
    {
     "name": "stderr",
     "output_type": "stream",
     "text": [
      "/Users/Jannick/anaconda3/lib/python3.6/site-packages/ipykernel_launcher.py:13: RuntimeWarning: '<' not supported between instances of 'str' and 'int', sort order is undefined for incomparable objects\n",
      "  del sys.path[0]\n"
     ]
    }
   ],
   "source": [
    "# Creates a function that computes the mean value for each day \n",
    "unique_dates = ABB_avg_df['date'].unique()\n",
    "ABB_means_df = pd.DataFrame(unique_dates)\n",
    "\n",
    "for date in unique_dates:\n",
    "    same_date = ABB_avg_df.loc[ABB_avg_df['date'] == date]\n",
    "    \n",
    "    sentiment_mean = same_date['sentiment_score'].mean()\n",
    "    watson_mean = same_date['watson_sentiment_score'].mean()\n",
    "    polarity_mean = same_date['polarity'].mean()\n",
    "\n",
    "    ABB_means_df = ABB_means_df.append({'sentiment': sentiment_mean, 'watson': watson_mean, \n",
    "                                        'polarity': polarity_mean}, ignore_index=True)"
   ]
  },
  {
   "cell_type": "code",
   "execution_count": 79,
   "metadata": {},
   "outputs": [],
   "source": [
    "# Create a Pandas Excel writer using XlsxWriter as the engine.\n",
    "writer = pd.ExcelWriter('ABB_means_df.xlsx', engine='xlsxwriter')\n",
    "\n",
    "# Convert the dataframe to an XlsxWriter Excel object.\n",
    "ABB_means_df.to_excel(writer, sheet_name='Sheet1')\n",
    "\n",
    "# Close the Pandas Excel writer and output the Excel file.\n",
    "writer.save()"
   ]
  },
  {
   "cell_type": "code",
   "execution_count": 80,
   "metadata": {},
   "outputs": [
    {
     "data": {
      "text/html": [
       "<div>\n",
       "<table border=\"1\" class=\"dataframe\">\n",
       "  <thead>\n",
       "    <tr style=\"text-align: right;\">\n",
       "      <th></th>\n",
       "      <th>date</th>\n",
       "      <th>polarity</th>\n",
       "      <th>sentiment</th>\n",
       "      <th>watson</th>\n",
       "      <th>datetime</th>\n",
       "    </tr>\n",
       "  </thead>\n",
       "  <tbody>\n",
       "    <tr>\n",
       "      <th>0</th>\n",
       "      <td>2018-02-28</td>\n",
       "      <td>0.128571</td>\n",
       "      <td>0.000000</td>\n",
       "      <td>NaN</td>\n",
       "      <td>2018-02-28</td>\n",
       "    </tr>\n",
       "    <tr>\n",
       "      <th>1</th>\n",
       "      <td>2018-03-04</td>\n",
       "      <td>-0.026042</td>\n",
       "      <td>-2.666667</td>\n",
       "      <td>0.701863</td>\n",
       "      <td>2018-03-04</td>\n",
       "    </tr>\n",
       "    <tr>\n",
       "      <th>2</th>\n",
       "      <td>2018-03-05</td>\n",
       "      <td>0.162500</td>\n",
       "      <td>0.000000</td>\n",
       "      <td>0.566140</td>\n",
       "      <td>2018-03-05</td>\n",
       "    </tr>\n",
       "    <tr>\n",
       "      <th>3</th>\n",
       "      <td>2018-03-06</td>\n",
       "      <td>0.108170</td>\n",
       "      <td>-0.714286</td>\n",
       "      <td>0.628010</td>\n",
       "      <td>2018-03-06</td>\n",
       "    </tr>\n",
       "    <tr>\n",
       "      <th>4</th>\n",
       "      <td>2018-03-07</td>\n",
       "      <td>0.098606</td>\n",
       "      <td>0.750000</td>\n",
       "      <td>0.409668</td>\n",
       "      <td>2018-03-07</td>\n",
       "    </tr>\n",
       "  </tbody>\n",
       "</table>\n",
       "</div>"
      ],
      "text/plain": [
       "        date  polarity  sentiment    watson   datetime\n",
       "0 2018-02-28  0.128571   0.000000       NaN 2018-02-28\n",
       "1 2018-03-04 -0.026042  -2.666667  0.701863 2018-03-04\n",
       "2 2018-03-05  0.162500   0.000000  0.566140 2018-03-05\n",
       "3 2018-03-06  0.108170  -0.714286  0.628010 2018-03-06\n",
       "4 2018-03-07  0.098606   0.750000  0.409668 2018-03-07"
      ]
     },
     "execution_count": 80,
     "metadata": {},
     "output_type": "execute_result"
    }
   ],
   "source": [
    "# Open adjusted UBS file containing all sentiment scores \n",
    "ABB_means_adjusted_df = pd.read_excel('ABB_means_adjusted_df.xlsx')\n",
    "\n",
    "# Transform date to datetime format\n",
    "ABB_means_adjusted_df['datetime'] = pd.to_datetime(ABB_means_adjusted_df['date'])\n",
    "\n",
    "# Display head of newly created dataframe\n",
    "ABB_means_adjusted_df.head()"
   ]
  },
  {
   "cell_type": "code",
   "execution_count": 81,
   "metadata": {},
   "outputs": [
    {
     "data": {
      "text/plain": [
       "<matplotlib.axes._subplots.AxesSubplot at 0x1a53147128>"
      ]
     },
     "execution_count": 81,
     "metadata": {},
     "output_type": "execute_result"
    },
    {
     "data": {
      "image/png": "[encoded data removed]",
      "text/plain": [
       "<Figure size 1440x360 with 1 Axes>"
      ]
     },
     "metadata": {},
     "output_type": "display_data"
    }
   ],
   "source": [
    "ABB_means_adjusted_df.plot(legend = True, label = 'Daily Sentiment Score', \n",
    "                                    figsize = (20, 5))"
   ]
  },
  {
   "cell_type": "code",
   "execution_count": 82,
   "metadata": {},
   "outputs": [
    {
     "data": {
      "image/png": "[encoded data removed]",
      "text/plain": [
       "<Figure size 1440x360 with 1 Axes>"
      ]
     },
     "metadata": {},
     "output_type": "display_data"
    }
   ],
   "source": [
    "# Plot for Watson Sentiment and Polarity\n",
    "plt.figure(figsize=(20,5))\n",
    "plt.plot(ABB_means_adjusted_df['datetime'],ABB_means_adjusted_df['polarity'])\n",
    "# plt.plot(Novartis_means_adjusted_df['datetime'],Novartis_means_adjusted_df['watson'])\n",
    "plt.show()"
   ]
  },
  {
   "cell_type": "markdown",
   "metadata": {},
   "source": [
    "#### Create Excel File"
   ]
  },
  {
   "cell_type": "code",
   "execution_count": 83,
   "metadata": {},
   "outputs": [
    {
     "name": "stderr",
     "output_type": "stream",
     "text": [
      "/Users/Jannick/anaconda3/lib/python3.6/site-packages/xlsxwriter/worksheet.py:830: UserWarning: Ignoring URL 'http://triblive.com/csp/mediapool/sites/dt.common.streams.StreamServer.cls?STREAMOID=PzYjCoa09D2h_AxxIKpqg8$daE2N3K4ZzOUsqbU5sYswC5y_sDLWSCAyuldTS73AWCsjLu883Ygn4B49Lvm9bPe2QeMKQdVeZmXF$9l$4uCZ8QDXhaHEp3rvzXRJFdy0KqPHLoMevcTLo3h8xh70Y6N_U_CryOsw6FTOdKL_jpQ-&amp;CONTENTTYPE=image/jpeg' with link or location/anchor > 255 characters since it exceeds Excel's limit for URLS\n",
      "  force_unicode(url))\n",
      "/Users/Jannick/anaconda3/lib/python3.6/site-packages/xlsxwriter/worksheet.py:830: UserWarning: Ignoring URL 'http://triblive.com/csp/mediapool/sites/dt.common.streams.StreamServer.cls?STREAMOID=PXTLvdTWHeBFMP$wTj7UL8$daE2N3K4ZzOUsqbU5sYtB4QgKQ1qd4ZuVcn8U1vllWCsjLu883Ygn4B49Lvm9bPe2QeMKQdVeZmXF$9l$4uCZ8QDXhaHEp3rvzXRJFdy0KqPHLoMevcTLo3h8xh70Y6N_U_CryOsw6FTOdKL_jpQ-&amp;CONTENTTYPE=image/jpeg' with link or location/anchor > 255 characters since it exceeds Excel's limit for URLS\n",
      "  force_unicode(url))\n",
      "/Users/Jannick/anaconda3/lib/python3.6/site-packages/xlsxwriter/worksheet.py:830: UserWarning: Ignoring URL 'http://triblive.com/csp/mediapool/sites/dt.common.streams.StreamServer.cls?STREAMOID=pazDU99R1SIW0Cu49BCUmM$daE2N3K4ZzOUsqbU5sYuZAgUfkitQFefIfN9z8gsnWCsjLu883Ygn4B49Lvm9bPe2QeMKQdVeZmXF$9l$4uCZ8QDXhaHEp3rvzXRJFdy0KqPHLoMevcTLo3h8xh70Y6N_U_CryOsw6FTOdKL_jpQ-&amp;CONTENTTYPE=image/jpeg' with link or location/anchor > 255 characters since it exceeds Excel's limit for URLS\n",
      "  force_unicode(url))\n",
      "/Users/Jannick/anaconda3/lib/python3.6/site-packages/xlsxwriter/worksheet.py:830: UserWarning: Ignoring URL 'https://www.openpr.com/news/1005401/Hepatitis-B-Virus-Treatment-HBV-Market-Comprehensive-Analysis-and-Future-Estimations-2022-with-Top-Companies-Merck-and-Co-Gilead-Sciences-Novartis-AG-GlaxoSmithKline-plc-F-Hoffmann-La-Roche-Bristol-Myers-Squibb-AbbVie-Inc.html' with link or location/anchor > 255 characters since it exceeds Excel's limit for URLS\n",
      "  force_unicode(url))\n",
      "/Users/Jannick/anaconda3/lib/python3.6/site-packages/xlsxwriter/worksheet.py:830: UserWarning: Ignoring URL 'https://www.openpr.com/news/1022020/Insulin-Delivery-Devices-Market-2018-Global-Driver-F-Hoffmann-La-Roche-Eli-Lilly-and-Company-Sanofi-Medtronic-Inc-Novo-Nordisk-A-S-and-Becton-Dickinson-and-Company-B-Braun-Melsungen-AG-Animas-Corporation-Ypsomed-Holdings-AG-and-Insulet-Co.html' with link or location/anchor > 255 characters since it exceeds Excel's limit for URLS\n",
      "  force_unicode(url))\n"
     ]
    }
   ],
   "source": [
    "# Create a Pandas Excel writer using XlsxWriter as the engine.\n",
    "writer = pd.ExcelWriter('ABB_df.xlsx', engine='xlsxwriter')\n",
    "\n",
    "# Convert the dataframe to an XlsxWriter Excel object.\n",
    "ABB_df.to_excel(writer, sheet_name='Sheet1')\n",
    "\n",
    "# Close the Pandas Excel writer and output the Excel file.\n",
    "writer.save()"
   ]
  },
  {
   "cell_type": "code",
   "execution_count": 84,
   "metadata": {},
   "outputs": [
    {
     "data": {
      "text/html": [
       "<div>\n",
       "<table border=\"1\" class=\"dataframe\">\n",
       "  <thead>\n",
       "    <tr style=\"text-align: right;\">\n",
       "      <th></th>\n",
       "      <th>author</th>\n",
       "      <th>country</th>\n",
       "      <th>crawl_date</th>\n",
       "      <th>enriched_text</th>\n",
       "      <th>enriched_title</th>\n",
       "      <th>external_links</th>\n",
       "      <th>extracted_metadata</th>\n",
       "      <th>forum_title</th>\n",
       "      <th>highlight</th>\n",
       "      <th>host</th>\n",
       "      <th>...</th>\n",
       "      <th>text</th>\n",
       "      <th>title</th>\n",
       "      <th>url</th>\n",
       "      <th>datetime</th>\n",
       "      <th>tokens</th>\n",
       "      <th>num_occurr_pos</th>\n",
       "      <th>num_occurr_neg</th>\n",
       "      <th>num_occurr_lit</th>\n",
       "      <th>num_occurr_unc</th>\n",
       "      <th>sentiment_score</th>\n",
       "    </tr>\n",
       "  </thead>\n",
       "  <tbody>\n",
       "    <tr>\n",
       "      <th>0</th>\n",
       "      <td>Latisha Jones</td>\n",
       "      <td>US</td>\n",
       "      <td>2018-04-05T05:34:32Z</td>\n",
       "      <td>{'entities': [{'count': 9, 'sentiment': {'scor...</td>\n",
       "      <td>{'entities': [{'count': 1, 'sentiment': {'scor...</td>\n",
       "      <td>NaN</td>\n",
       "      <td>{'sha1': 'd2e730fe19a8eb7d9549e40a1474d18bc183...</td>\n",
       "      <td>Daily Political</td>\n",
       "      <td>{'enriched_text.semantic_roles.object.text': [...</td>\n",
       "      <td>dailypolitical.com</td>\n",
       "      <td>...</td>\n",
       "      <td>Tweet Roche (VTX:ROG) ‘s stock had its “buy” r...</td>\n",
       "      <td>Roche (ROG) Given “Buy” Rating at JPMorgan Chase</td>\n",
       "      <td>https://www.dailypolitical.com/2018/04/04/roch...</td>\n",
       "      <td>2018-04-05 05:16:00</td>\n",
       "      <td>[tweet, roch, vtx, rog, stock, buy, rate, reis...</td>\n",
       "      <td>0</td>\n",
       "      <td>1</td>\n",
       "      <td>1</td>\n",
       "      <td>0</td>\n",
       "      <td>-1</td>\n",
       "    </tr>\n",
       "    <tr>\n",
       "      <th>1</th>\n",
       "      <td>NaN</td>\n",
       "      <td>US</td>\n",
       "      <td>2018-04-19T05:38:01Z</td>\n",
       "      <td>{'entities': [{'count': 1, 'sentiment': {'scor...</td>\n",
       "      <td>{'entities': [{'count': 1, 'sentiment': {'scor...</td>\n",
       "      <td>NaN</td>\n",
       "      <td>{'sha1': '54e59198dba7b2bc9f0e538b35978326508f...</td>\n",
       "      <td>NaN</td>\n",
       "      <td>{'enriched_text.semantic_roles.object.text': [...</td>\n",
       "      <td>dc101.iheart.com</td>\n",
       "      <td>...</td>\n",
       "      <td>Sphere Of Roche: Does Roche Shower Enough? pos...</td>\n",
       "      <td>Sphere Of Roche: Does Roche Shower Enough? | R...</td>\n",
       "      <td>https://dc101.iheart.com/featured/roche/conten...</td>\n",
       "      <td>2018-04-18 00:00:00</td>\n",
       "      <td>[sphere, roch, roch, shower, enough, post, roc...</td>\n",
       "      <td>1</td>\n",
       "      <td>2</td>\n",
       "      <td>0</td>\n",
       "      <td>0</td>\n",
       "      <td>-1</td>\n",
       "    </tr>\n",
       "    <tr>\n",
       "      <th>2</th>\n",
       "      <td>Joe Pappalardo</td>\n",
       "      <td>US</td>\n",
       "      <td>2018-04-05T05:09:59Z</td>\n",
       "      <td>{'entities': [{'count': 2, 'sentiment': {'scor...</td>\n",
       "      <td>{'entities': [{'count': 1, 'sentiment': {'scor...</td>\n",
       "      <td>NaN</td>\n",
       "      <td>{'sha1': '11c9111b19f05833f739390db5ab499c2a77...</td>\n",
       "      <td>Hillsdale Collegian</td>\n",
       "      <td>{'enriched_text.semantic_roles.object.text': [...</td>\n",
       "      <td>hillsdalecollegian.com</td>\n",
       "      <td>...</td>\n",
       "      <td>Roche charges $5 for parking Roche charges $5 ...</td>\n",
       "      <td>Roche charges $5 for parking</td>\n",
       "      <td>http://hillsdalecollegian.com/2018/04/roche-ch...</td>\n",
       "      <td>2018-04-04 13:00:00</td>\n",
       "      <td>[roch, charg, park, roch, charg, park, share, ...</td>\n",
       "      <td>0</td>\n",
       "      <td>0</td>\n",
       "      <td>0</td>\n",
       "      <td>1</td>\n",
       "      <td>0</td>\n",
       "    </tr>\n",
       "    <tr>\n",
       "      <th>3</th>\n",
       "      <td>NaN</td>\n",
       "      <td>US</td>\n",
       "      <td>2018-03-08T12:20:13Z</td>\n",
       "      <td>{'entities': [{'count': 2, 'sentiment': {'scor...</td>\n",
       "      <td>{'entities': [{'count': 1, 'sentiment': {'scor...</td>\n",
       "      <td>NaN</td>\n",
       "      <td>{'sha1': '1451ba2ff7b64fa877c0f0a72d009d8ec952...</td>\n",
       "      <td>NewsDump.com, US News, Headlines, Latest USA N...</td>\n",
       "      <td>{'enriched_text.relations.arguments.entities.t...</td>\n",
       "      <td>newsdump.com</td>\n",
       "      <td>...</td>\n",
       "      <td>Published By: Reuters - Health - Today ZURICH ...</td>\n",
       "      <td>Roche names Pao as Swiss R&amp;D head after Reed e...</td>\n",
       "      <td>http://www.newsdump.com/article/roche-names-pa...</td>\n",
       "      <td>2018-03-08 11:40:00</td>\n",
       "      <td>[publish, reuter, health, today, zurich, reute...</td>\n",
       "      <td>0</td>\n",
       "      <td>0</td>\n",
       "      <td>0</td>\n",
       "      <td>0</td>\n",
       "      <td>0</td>\n",
       "    </tr>\n",
       "    <tr>\n",
       "      <th>4</th>\n",
       "      <td>Caroline Horne</td>\n",
       "      <td>US</td>\n",
       "      <td>2018-05-01T07:59:45Z</td>\n",
       "      <td>{'entities': [{'count': 8, 'sentiment': {'scor...</td>\n",
       "      <td>{'entities': [{'count': 1, 'sentiment': {'scor...</td>\n",
       "      <td>[https://www.marketbeat.com/stocks/VTX/ROG/, h...</td>\n",
       "      <td>{'sha1': 'b7da7697fe180ee46a49467b12254bb31a54...</td>\n",
       "      <td>The Lincolnian Online</td>\n",
       "      <td>{'enriched_text.semantic_roles.object.text': [...</td>\n",
       "      <td>thelincolnianonline.com</td>\n",
       "      <td>...</td>\n",
       "      <td>JPMorgan Chase Reaffirms “Buy” Rating for Roch...</td>\n",
       "      <td>JPMorgan Chase Reaffirms “Buy” Rating for Roch...</td>\n",
       "      <td>https://www.thelincolnianonline.com/2018/05/01...</td>\n",
       "      <td>2018-05-01 09:54:00</td>\n",
       "      <td>[jpmorgan, chase, reaffirm, buy, rate, roch, r...</td>\n",
       "      <td>0</td>\n",
       "      <td>2</td>\n",
       "      <td>1</td>\n",
       "      <td>1</td>\n",
       "      <td>-2</td>\n",
       "    </tr>\n",
       "  </tbody>\n",
       "</table>\n",
       "<p>5 rows × 26 columns</p>\n",
       "</div>"
      ],
      "text/plain": [
       "           author country            crawl_date  \\\n",
       "0   Latisha Jones      US  2018-04-05T05:34:32Z   \n",
       "1             NaN      US  2018-04-19T05:38:01Z   \n",
       "2  Joe Pappalardo      US  2018-04-05T05:09:59Z   \n",
       "3             NaN      US  2018-03-08T12:20:13Z   \n",
       "4  Caroline Horne      US  2018-05-01T07:59:45Z   \n",
       "\n",
       "                                       enriched_text  \\\n",
       "0  {'entities': [{'count': 9, 'sentiment': {'scor...   \n",
       "1  {'entities': [{'count': 1, 'sentiment': {'scor...   \n",
       "2  {'entities': [{'count': 2, 'sentiment': {'scor...   \n",
       "3  {'entities': [{'count': 2, 'sentiment': {'scor...   \n",
       "4  {'entities': [{'count': 8, 'sentiment': {'scor...   \n",
       "\n",
       "                                      enriched_title  \\\n",
       "0  {'entities': [{'count': 1, 'sentiment': {'scor...   \n",
       "1  {'entities': [{'count': 1, 'sentiment': {'scor...   \n",
       "2  {'entities': [{'count': 1, 'sentiment': {'scor...   \n",
       "3  {'entities': [{'count': 1, 'sentiment': {'scor...   \n",
       "4  {'entities': [{'count': 1, 'sentiment': {'scor...   \n",
       "\n",
       "                                      external_links  \\\n",
       "0                                                NaN   \n",
       "1                                                NaN   \n",
       "2                                                NaN   \n",
       "3                                                NaN   \n",
       "4  [https://www.marketbeat.com/stocks/VTX/ROG/, h...   \n",
       "\n",
       "                                  extracted_metadata  \\\n",
       "0  {'sha1': 'd2e730fe19a8eb7d9549e40a1474d18bc183...   \n",
       "1  {'sha1': '54e59198dba7b2bc9f0e538b35978326508f...   \n",
       "2  {'sha1': '11c9111b19f05833f739390db5ab499c2a77...   \n",
       "3  {'sha1': '1451ba2ff7b64fa877c0f0a72d009d8ec952...   \n",
       "4  {'sha1': 'b7da7697fe180ee46a49467b12254bb31a54...   \n",
       "\n",
       "                                         forum_title  \\\n",
       "0                                    Daily Political   \n",
       "1                                                NaN   \n",
       "2                                Hillsdale Collegian   \n",
       "3  NewsDump.com, US News, Headlines, Latest USA N...   \n",
       "4                              The Lincolnian Online   \n",
       "\n",
       "                                           highlight                     host  \\\n",
       "0  {'enriched_text.semantic_roles.object.text': [...       dailypolitical.com   \n",
       "1  {'enriched_text.semantic_roles.object.text': [...         dc101.iheart.com   \n",
       "2  {'enriched_text.semantic_roles.object.text': [...   hillsdalecollegian.com   \n",
       "3  {'enriched_text.relations.arguments.entities.t...             newsdump.com   \n",
       "4  {'enriched_text.semantic_roles.object.text': [...  thelincolnianonline.com   \n",
       "\n",
       "        ...                                                     text  \\\n",
       "0       ...        Tweet Roche (VTX:ROG) ‘s stock had its “buy” r...   \n",
       "1       ...        Sphere Of Roche: Does Roche Shower Enough? pos...   \n",
       "2       ...        Roche charges $5 for parking Roche charges $5 ...   \n",
       "3       ...        Published By: Reuters - Health - Today ZURICH ...   \n",
       "4       ...        JPMorgan Chase Reaffirms “Buy” Rating for Roch...   \n",
       "\n",
       "                                               title  \\\n",
       "0   Roche (ROG) Given “Buy” Rating at JPMorgan Chase   \n",
       "1  Sphere Of Roche: Does Roche Shower Enough? | R...   \n",
       "2                       Roche charges $5 for parking   \n",
       "3  Roche names Pao as Swiss R&D head after Reed e...   \n",
       "4  JPMorgan Chase Reaffirms “Buy” Rating for Roch...   \n",
       "\n",
       "                                                 url            datetime  \\\n",
       "0  https://www.dailypolitical.com/2018/04/04/roch... 2018-04-05 05:16:00   \n",
       "1  https://dc101.iheart.com/featured/roche/conten... 2018-04-18 00:00:00   \n",
       "2  http://hillsdalecollegian.com/2018/04/roche-ch... 2018-04-04 13:00:00   \n",
       "3  http://www.newsdump.com/article/roche-names-pa... 2018-03-08 11:40:00   \n",
       "4  https://www.thelincolnianonline.com/2018/05/01... 2018-05-01 09:54:00   \n",
       "\n",
       "                                              tokens num_occurr_pos  \\\n",
       "0  [tweet, roch, vtx, rog, stock, buy, rate, reis...              0   \n",
       "1  [sphere, roch, roch, shower, enough, post, roc...              1   \n",
       "2  [roch, charg, park, roch, charg, park, share, ...              0   \n",
       "3  [publish, reuter, health, today, zurich, reute...              0   \n",
       "4  [jpmorgan, chase, reaffirm, buy, rate, roch, r...              0   \n",
       "\n",
       "  num_occurr_neg num_occurr_lit num_occurr_unc sentiment_score  \n",
       "0              1              1              0              -1  \n",
       "1              2              0              0              -1  \n",
       "2              0              0              1               0  \n",
       "3              0              0              0               0  \n",
       "4              2              1              1              -2  \n",
       "\n",
       "[5 rows x 26 columns]"
      ]
     },
     "execution_count": 84,
     "metadata": {},
     "output_type": "execute_result"
    }
   ],
   "source": [
    "ABB_df.head()"
   ]
  }
 ],
 "metadata": {
  "kernelspec": {
   "display_name": "Python 3",
   "language": "python",
   "name": "python3"
  },
  "language_info": {
   "codemirror_mode": {
    "name": "ipython",
    "version": 3
   },
   "file_extension": ".py",
   "mimetype": "text/x-python",
   "name": "python",
   "nbconvert_exporter": "python",
   "pygments_lexer": "ipython3",
   "version": "3.6.4"
  }
 },
 "nbformat": 4,
 "nbformat_minor": 2
}
